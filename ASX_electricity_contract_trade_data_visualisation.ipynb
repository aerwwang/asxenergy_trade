{
 "cells": [
  {
   "cell_type": "code",
   "execution_count": 2,
   "id": "455e4c7e",
   "metadata": {},
   "outputs": [
    {
     "data": {
      "text/plain": [
       "'\\nThis code outputs charts showing trading activities for different ASX electricity contracts.\\n\\nUsers can choose to plot any or all of the following data types:\\n- Daily average price\\n- Cumulative average price\\n- Daily MWh traded\\n- Cumulative MWh traded\\nfor the ASX electricity contracts for the following states\\n- New South Wales\\n- Victoria\\n- Queensland\\n- South Australia\\nfor the following contract types\\n- Base\\n- Peak\\n- Cap ($300/MWh)\\nfor the following expiry time\\n- Q1 (last day of Q1 of the year)\\n- Q2 (last day of Q2 of the year)\\n- Q3 (last day of Q3 of the year)\\n- Q4 (last day of Q4 of the year)\\nfor the following years (this can be extended with a bigger input dataset)\\n- 2022, 2023, 2024, 2025, 2026\\nagainst time which can either be\\n- Actual calendar days or\\n- Number of days from contract expiry\\nand choose to compare by either the expiry quarter, expiry year, state or contract type.\\n'"
      ]
     },
     "execution_count": 2,
     "metadata": {},
     "output_type": "execute_result"
    }
   ],
   "source": [
    "'''\n",
    "This code outputs charts showing trading activities for different ASX electricity contracts.\n",
    "\n",
    "Users can choose to plot any or all of the following data types:\n",
    "- Daily average price\n",
    "- Cumulative average price\n",
    "- Daily MWh traded\n",
    "- Cumulative MWh traded\n",
    "for the ASX electricity contracts for the following states\n",
    "- New South Wales\n",
    "- Victoria\n",
    "- Queensland\n",
    "- South Australia\n",
    "for the following contract types\n",
    "- Base\n",
    "- Peak\n",
    "- Cap ($300/MWh)\n",
    "for the following expiry time\n",
    "- Q1 (last day of Q1 of the year)\n",
    "- Q2 (last day of Q2 of the year)\n",
    "- Q3 (last day of Q3 of the year)\n",
    "- Q4 (last day of Q4 of the year)\n",
    "for the following years (this can be extended with a bigger input dataset)\n",
    "- 2022, 2023, 2024, 2025, 2026\n",
    "against time which can either be\n",
    "- Actual calendar days or\n",
    "- Number of days from contract expiry\n",
    "and choose to compare by either the expiry quarter, expiry year, state or contract type.\n",
    "'''"
   ]
  },
  {
   "cell_type": "code",
   "execution_count": 4,
   "id": "a34d609e",
   "metadata": {},
   "outputs": [],
   "source": [
    "# Import libraries\n",
    "import pandas as pd\n",
    "import os\n",
    "import re\n",
    "import matplotlib.pyplot as plt\n",
    "import ipywidgets as widgets\n",
    "from IPython.display import display"
   ]
  },
  {
   "cell_type": "code",
   "execution_count": 6,
   "id": "b139dabc",
   "metadata": {},
   "outputs": [],
   "source": [
    "# Update the file path for the trade summary data\n",
    "file_path = r'C:\\Users\\wwang2\\OneDrive - ACCC\\Desktop\\Grad\\R4_AER_EPR\\Analysing price and volume trends in ASX energy contracts\\summary\\trades_summary.csv'"
   ]
  },
  {
   "cell_type": "code",
   "execution_count": 9,
   "id": "6b68ecc1",
   "metadata": {},
   "outputs": [],
   "source": [
    "summary_df = pd.read_csv(file_path)\n",
    "summary_df['Date'] = pd.to_datetime(summary_df['Date'])"
   ]
  },
  {
   "cell_type": "code",
   "execution_count": 10,
   "id": "d06aa7b8",
   "metadata": {},
   "outputs": [],
   "source": [
    "def plot_comparison_by_quarter(df, data_types, states, contract_types, quarters, years, time_criteria):\n",
    "    for state in states:\n",
    "        for contract_type in contract_types:\n",
    "            for year in years:\n",
    "                fig, ax1 = plt.subplots(figsize=(18, 16), dpi=150)\n",
    "                \n",
    "                # Determine the type of plot based on data_types\n",
    "                contains_price = any(dt in ['Daily average price', 'Cumulative average price'] for dt in data_types)\n",
    "                contains_mwh = any(dt in ['Daily MWh traded', 'Cumulative MWh traded'] for dt in data_types)\n",
    "                \n",
    "                if contains_price and contains_mwh:\n",
    "                    ax2 = ax1.twinx()\n",
    "                else:\n",
    "                    ax2 = None\n",
    "                \n",
    "                for quarter in quarters:\n",
    "                    for dt in data_types:\n",
    "                        days_from_expiry = f'Days from expiry for {contract_type} {state} {quarter} {year}'\n",
    "                        column_name = f'{dt} for {contract_type} {state} {quarter} {year}'\n",
    "                        if column_name in df.columns:\n",
    "                            if dt in ['Daily average price', 'Cumulative average price']:\n",
    "                                if time_criteria == 'Calendar Dates':\n",
    "                                    ax1.plot(df['Date'], df[column_name], label=f'{quarter} - {dt}')\n",
    "                                else:\n",
    "                                    ax1.plot(-df[days_from_expiry], df[column_name], label=f'{quarter} - {dt}')\n",
    "                            elif dt in ['Daily MWh traded', 'Cumulative MWh traded']:\n",
    "                                if ax2:\n",
    "                                    if time_criteria == 'Calendar Dates':\n",
    "                                        ax2.plot(df['Date'], df[column_name], label=f'{quarter} - {dt}', linestyle='--')\n",
    "                                    else:\n",
    "                                        ax2.plot(-df[days_from_expiry], df[column_name], label=f'{quarter} - {dt}', linestyle='--')\n",
    "                                else:\n",
    "                                    if time_criteria == 'Calendar Dates':\n",
    "                                        ax1.plot(df['Date'], df[column_name], label=f'{quarter} - {dt}')\n",
    "                                    else:\n",
    "                                        ax1.plot(-df[days_from_expiry], df[column_name], label=f'{quarter} - {dt}')\n",
    "                \n",
    "                ax1.set_title(f'{state} {contract_type} {year} trades summary')\n",
    "                ax1.set_xlabel('Date' if time_criteria == 'Calendar Dates' else 'Days from expiry')\n",
    "                \n",
    "                if contains_price:\n",
    "                    ax1.set_ylabel('Average price ($/MWh)')\n",
    "                if contains_mwh and ax2:\n",
    "                    ax2.set_ylabel('MWh traded')\n",
    "                elif contains_mwh:\n",
    "                    ax1.set_ylabel('MWh traded')\n",
    "                \n",
    "                lines, labels = ax1.get_legend_handles_labels()\n",
    "                if ax2:\n",
    "                    lines2, labels2 = ax2.get_legend_handles_labels()\n",
    "                    lines += lines2\n",
    "                    labels += labels2\n",
    "                ax1.legend(lines, labels, loc='upper center', bbox_to_anchor=(0.5, -0.05), ncol=2)\n",
    "                \n",
    "                plt.tight_layout(rect=[0, 0.03, 1, 0.95])\n",
    "                plt.savefig(f'summary/{state} {contract_type} {year} trades summary - {quarter}.png', bbox_inches='tight')\n",
    "                plt.show()\n",
    "                plt.close()"
   ]
  },
  {
   "cell_type": "code",
   "execution_count": 11,
   "id": "286eac9a",
   "metadata": {},
   "outputs": [],
   "source": [
    "def plot_comparison_by_year(df, data_types, states, contract_types, quarters, years, time_criteria):\n",
    "    for state in states:\n",
    "        for contract_type in contract_types:\n",
    "            for quarter in quarters:\n",
    "                fig, ax1 = plt.subplots(figsize=(18, 16), dpi=150)\n",
    "                \n",
    "                # Determine the type of plot based on data_types\n",
    "                contains_price = any(dt in ['Daily average price', 'Cumulative average price'] for dt in data_types)\n",
    "                contains_mwh = any(dt in ['Daily MWh traded', 'Cumulative MWh traded'] for dt in data_types)\n",
    "                \n",
    "                if contains_price and contains_mwh:\n",
    "                    ax2 = ax1.twinx()\n",
    "                else:\n",
    "                    ax2 = None\n",
    "                \n",
    "                for year in years:\n",
    "                    for dt in data_types:\n",
    "                        days_from_expiry = f'Days from expiry for {contract_type} {state} {quarter} {year}'\n",
    "                        column_name = f'{dt} for {contract_type} {state} {quarter} {year}'\n",
    "                        if column_name in df.columns:\n",
    "                            if dt in ['Daily average price', 'Cumulative average price']:\n",
    "                                if time_criteria == 'Calendar Dates':\n",
    "                                    ax1.plot(df['Date'], df[column_name], label=f'{year} - {dt}')\n",
    "                                else:\n",
    "                                    ax1.plot(-df[days_from_expiry], df[column_name], label=f'{year} - {dt}')\n",
    "                            elif dt in ['Daily MWh traded', 'Cumulative MWh traded']:\n",
    "                                if ax2:\n",
    "                                    if time_criteria == 'Calendar Dates':\n",
    "                                        ax2.plot(df['Date'], df[column_name], label=f'{year} - {dt}', linestyle='--')\n",
    "                                    else:\n",
    "                                        ax2.plot(-df[days_from_expiry], df[column_name], label=f'{year} - {dt}', linestyle='--')\n",
    "                                else:\n",
    "                                    if time_criteria == 'Calendar Dates':\n",
    "                                        ax1.plot(df['Date'], df[column_name], label=f'{year} - {dt}')\n",
    "                                    else:\n",
    "                                        ax1.plot(-df[days_from_expiry], df[column_name], label=f'{year} - {dt}')\n",
    "                \n",
    "                ax1.set_title(f'{state} {contract_type} {quarter} trades summary')\n",
    "                ax1.set_xlabel('Date' if time_criteria == 'Calendar Dates' else 'Days from expiry')\n",
    "                \n",
    "                if contains_price:\n",
    "                    ax1.set_ylabel('Average price ($/MWh)')\n",
    "                if contains_mwh and ax2:\n",
    "                    ax2.set_ylabel('MWh traded')\n",
    "                elif contains_mwh:\n",
    "                    ax1.set_ylabel('MWh traded')\n",
    "                \n",
    "                lines, labels = ax1.get_legend_handles_labels()\n",
    "                if ax2:\n",
    "                    lines2, labels2 = ax2.get_legend_handles_labels()\n",
    "                    lines += lines2\n",
    "                    labels += labels2\n",
    "                ax1.legend(lines, labels, loc='upper center', bbox_to_anchor=(0.5, -0.05), ncol=2)\n",
    "                \n",
    "                plt.tight_layout(rect=[0, 0.03, 1, 0.95])\n",
    "                plt.savefig(f'summary/{state} {contract_type} {quarter} trades summary - {year}.png', bbox_inches='tight')\n",
    "                plt.show()\n",
    "                plt.close()"
   ]
  },
  {
   "cell_type": "code",
   "execution_count": 13,
   "id": "54d59ae7",
   "metadata": {},
   "outputs": [],
   "source": [
    "def plot_comparison_by_state(df, data_types, states, contract_types, quarters, years, time_criteria):\n",
    "    for contract_type in contract_types:\n",
    "        for year in years:\n",
    "            for quarter in quarters:\n",
    "                fig, ax1 = plt.subplots(figsize=(18, 16), dpi=150)\n",
    "                \n",
    "                # Determine the type of plot based on data_types\n",
    "                contains_price = any(dt in ['Daily average price', 'Cumulative average price'] for dt in data_types)\n",
    "                contains_mwh = any(dt in ['Daily MWh traded', 'Cumulative MWh traded'] for dt in data_types)\n",
    "                \n",
    "                if contains_price and contains_mwh:\n",
    "                    ax2 = ax1.twinx()\n",
    "                else:\n",
    "                    ax2 = None\n",
    "                \n",
    "                for state in states:\n",
    "                    for dt in data_types:\n",
    "                        days_from_expiry = f'Days from expiry for {contract_type} {state} {quarter} {year}'\n",
    "                        column_name = f'{dt} for {contract_type} {state} {quarter} {year}'\n",
    "                        if column_name in df.columns:\n",
    "                            if dt in ['Daily average price', 'Cumulative average price']:\n",
    "                                if time_criteria == 'Calendar Dates':\n",
    "                                    ax1.plot(df['Date'], df[column_name], label=f'{state} - {dt}')\n",
    "                                else:\n",
    "                                    ax1.plot(-df[days_from_expiry], df[column_name], label=f'{state} - {dt}')\n",
    "                            elif dt in ['Daily MWh traded', 'Cumulative MWh traded']:\n",
    "                                if ax2:\n",
    "                                    if time_criteria == 'Calendar Dates':\n",
    "                                        ax2.plot(df['Date'], df[column_name], label=f'{state} - {dt}', linestyle='--')\n",
    "                                    else:\n",
    "                                        ax2.plot(-df[days_from_expiry], df[column_name], label=f'{state} - {dt}', linestyle='--')\n",
    "                                else:\n",
    "                                    if time_criteria == 'Calendar Dates':\n",
    "                                        ax1.plot(df['Date'], df[column_name], label=f'{state} - {dt}')\n",
    "                                    else:\n",
    "                                        ax1.plot(-df[days_from_expiry], df[column_name], label=f'{state} - {dt}')\n",
    "                \n",
    "                ax1.set_title(f'{contract_type} {year} {quarter} trades summary')\n",
    "                ax1.set_xlabel('Date' if time_criteria == 'Calendar Dates' else 'Days from expiry')\n",
    "                \n",
    "                if contains_price:\n",
    "                    ax1.set_ylabel('Average price ($/MWh)')\n",
    "                if contains_mwh and ax2:\n",
    "                    ax2.set_ylabel('MWh traded')\n",
    "                elif contains_mwh:\n",
    "                    ax1.set_ylabel('MWh traded')\n",
    "                \n",
    "                lines, labels = ax1.get_legend_handles_labels()\n",
    "                if ax2:\n",
    "                    lines2, labels2 = ax2.get_legend_handles_labels()\n",
    "                    lines += lines2\n",
    "                    labels += labels2\n",
    "                ax1.legend(lines, labels, loc='upper center', bbox_to_anchor=(0.5, -0.05), ncol=2)\n",
    "                \n",
    "                plt.tight_layout(rect=[0, 0.03, 1, 0.95])\n",
    "                plt.savefig(f'summary/{contract_type} {year} {quarter} trades summary - {state}.png', bbox_inches='tight')\n",
    "                plt.show()\n",
    "                plt.close()"
   ]
  },
  {
   "cell_type": "code",
   "execution_count": 14,
   "id": "fcb7ebd6",
   "metadata": {},
   "outputs": [],
   "source": [
    "def plot_comparison_by_contract_type(df, data_types, states, contract_types, quarters, years, time_criteria):\n",
    "    for state in states:\n",
    "        for year in years:\n",
    "            for quarter in quarters:\n",
    "                fig, ax1 = plt.subplots(figsize=(18, 16), dpi=150)\n",
    "                \n",
    "                # Determine the type of plot based on data_types\n",
    "                contains_price = any(dt in ['Daily average price', 'Cumulative average price'] for dt in data_types)\n",
    "                contains_mwh = any(dt in ['Daily MWh traded', 'Cumulative MWh traded'] for dt in data_types)\n",
    "                \n",
    "                if contains_price and contains_mwh:\n",
    "                    ax2 = ax1.twinx()\n",
    "                else:\n",
    "                    ax2 = None\n",
    "                \n",
    "                for contract_type in contract_types:\n",
    "                    for dt in data_types:\n",
    "                        days_from_expiry = f'Days from expiry for {contract_type} {state} {quarter} {year}'\n",
    "                        column_name = f'{dt} for {contract_type} {state} {quarter} {year}'\n",
    "                        if column_name in df.columns:\n",
    "                            if dt in ['Daily average price', 'Cumulative average price']:\n",
    "                                if time_criteria == 'Calendar Dates':\n",
    "                                    ax1.plot(df['Date'], df[column_name], label=f'{contract_type} - {dt}')\n",
    "                                else:\n",
    "                                    ax1.plot(-df[days_from_expiry], df[column_name], label=f'{contract_type} - {dt}')\n",
    "                            elif dt in ['Daily MWh traded', 'Cumulative MWh traded']:\n",
    "                                if ax2:\n",
    "                                    if time_criteria == 'Calendar Dates':\n",
    "                                        ax2.plot(df['Date'], df[column_name], label=f'{contract_type} - {dt}', linestyle='--')\n",
    "                                    else:\n",
    "                                        ax2.plot(-df[days_from_expiry], df[column_name], label=f'{contract_type} - {dt}', linestyle='--')\n",
    "                                else:\n",
    "                                    if time_criteria == 'Calendar Dates':\n",
    "                                        ax1.plot(df['Date'], df[column_name], label=f'{contract_type} - {dt}')\n",
    "                                    else:\n",
    "                                        ax1.plot(-df[days_from_expiry], df[column_name], label=f'{contract_type} - {dt}')\n",
    "                \n",
    "                ax1.set_title(f'{state} {year} {quarter} trades summary')\n",
    "                ax1.set_xlabel('Date' if time_criteria == 'Calendar Dates' else 'Days from expiry')\n",
    "                \n",
    "                if contains_price:\n",
    "                    ax1.set_ylabel('Average price ($/MWh)')\n",
    "                if contains_mwh and ax2:\n",
    "                    ax2.set_ylabel('MWh traded')\n",
    "                elif contains_mwh:\n",
    "                    ax1.set_ylabel('MWh traded')\n",
    "                \n",
    "                lines, labels = ax1.get_legend_handles_labels()\n",
    "                if ax2:\n",
    "                    lines2, labels2 = ax2.get_legend_handles_labels()\n",
    "                    lines += lines2\n",
    "                    labels += labels2\n",
    "                ax1.legend(lines, labels, loc='upper center', bbox_to_anchor=(0.5, -0.05), ncol=2)\n",
    "                \n",
    "                plt.tight_layout(rect=[0, 0.03, 1, 0.95])\n",
    "                plt.savefig(f'summary/{state} {year} {quarter} trades summary - {contract_type}.png', bbox_inches='tight')\n",
    "                plt.show()\n",
    "                plt.close()"
   ]
  },
  {
   "cell_type": "code",
   "execution_count": 15,
   "id": "7fb5ceaa",
   "metadata": {},
   "outputs": [
    {
     "data": {
      "application/vnd.jupyter.widget-view+json": {
       "model_id": "a124d1822e8249f0ac73786a9384d241",
       "version_major": 2,
       "version_minor": 0
      },
      "text/plain": [
       "SelectMultiple(description='Data types', options=('Daily average price', 'Cumulative average price', 'Daily MW…"
      ]
     },
     "metadata": {},
     "output_type": "display_data"
    },
    {
     "data": {
      "application/vnd.jupyter.widget-view+json": {
       "model_id": "2f759c4f22a645a5aea88824944f9735",
       "version_major": 2,
       "version_minor": 0
      },
      "text/plain": [
       "SelectMultiple(description='States', options=('NSW', 'VIC', 'QLD', 'SA'), value=())"
      ]
     },
     "metadata": {},
     "output_type": "display_data"
    },
    {
     "data": {
      "application/vnd.jupyter.widget-view+json": {
       "model_id": "f9b6b9ea886246de93b110db0577928f",
       "version_major": 2,
       "version_minor": 0
      },
      "text/plain": [
       "SelectMultiple(description='Contract types', options=('Base', 'Peak', 'Cap'), value=())"
      ]
     },
     "metadata": {},
     "output_type": "display_data"
    },
    {
     "data": {
      "application/vnd.jupyter.widget-view+json": {
       "model_id": "10cc5c3d7b1f4a2c81ffe477bd8b231c",
       "version_major": 2,
       "version_minor": 0
      },
      "text/plain": [
       "SelectMultiple(description='Quarters', options=('Q1', 'Q2', 'Q3', 'Q4'), value=())"
      ]
     },
     "metadata": {},
     "output_type": "display_data"
    },
    {
     "data": {
      "application/vnd.jupyter.widget-view+json": {
       "model_id": "a07057021cba435faa2c79a12298b952",
       "version_major": 2,
       "version_minor": 0
      },
      "text/plain": [
       "SelectMultiple(description='Years', options=('2022', '2023', '2024', '2025', '2026'), value=())"
      ]
     },
     "metadata": {},
     "output_type": "display_data"
    },
    {
     "data": {
      "application/vnd.jupyter.widget-view+json": {
       "model_id": "49784e1f2145498485a8cb5dc47ab37a",
       "version_major": 2,
       "version_minor": 0
      },
      "text/plain": [
       "RadioButtons(description='Compare by', options=('Quarter', 'Year', 'State', 'Contract Type'), value='Quarter')"
      ]
     },
     "metadata": {},
     "output_type": "display_data"
    },
    {
     "data": {
      "application/vnd.jupyter.widget-view+json": {
       "model_id": "568666341f5944f4b8fc03cd8ccfa1d7",
       "version_major": 2,
       "version_minor": 0
      },
      "text/plain": [
       "RadioButtons(description='Time Criteria', options=('Calendar Dates', 'Days from Expiry'), value='Calendar Date…"
      ]
     },
     "metadata": {},
     "output_type": "display_data"
    },
    {
     "data": {
      "application/vnd.jupyter.widget-view+json": {
       "model_id": "24585c290898482388fd836adc93ee1b",
       "version_major": 2,
       "version_minor": 0
      },
      "text/plain": [
       "Button(description='Plot Comparison', style=ButtonStyle())"
      ]
     },
     "metadata": {},
     "output_type": "display_data"
    },
    {
     "data": {
      "application/vnd.jupyter.widget-view+json": {
       "model_id": "dc709f51c57f426a8f216f1ad17256f9",
       "version_major": 2,
       "version_minor": 0
      },
      "text/plain": [
       "Output()"
      ]
     },
     "metadata": {},
     "output_type": "display_data"
    }
   ],
   "source": [
    "# Adjusted function to compare data by user-selected criteria and display multiple data types in the same chart\n",
    "def plot_comparison(df, data_types, states, contract_types, quarters, years, compare_by, time_criteria):\n",
    "    if compare_by == 'Quarter':\n",
    "        plot_comparison_by_quarter(df, data_types, states, contract_types, quarters, years, time_criteria)\n",
    "    elif compare_by == 'Year':\n",
    "        plot_comparison_by_year(df, data_types, states, contract_types, quarters, years, time_criteria)\n",
    "    elif compare_by == 'State':\n",
    "        plot_comparison_by_state(df, data_types, states, contract_types, quarters, years, time_criteria)\n",
    "    elif compare_by == 'Contract Type':\n",
    "        plot_comparison_by_contract_type(df, data_types, states, contract_types, quarters, years, time_criteria)\n",
    "\n",
    "# Interactive widgets\n",
    "data_type_widget = widgets.SelectMultiple(options=['Daily average price', 'Cumulative average price', 'Daily MWh traded', 'Cumulative MWh traded'], description='Data types')\n",
    "state_widget = widgets.SelectMultiple(options=['NSW', 'VIC', 'QLD', 'SA'], description='States')\n",
    "contract_type_widget = widgets.SelectMultiple(options=['Base', 'Peak', 'Cap'], description='Contract types')\n",
    "quarter_widget = widgets.SelectMultiple(options=['Q1', 'Q2', 'Q3', 'Q4'], description='Quarters')\n",
    "year_widget = widgets.SelectMultiple(options=['2022', '2023', '2024', '2025', '2026'], description='Years')\n",
    "compare_by_widget = widgets.RadioButtons(options=['Quarter', 'Year', 'State', 'Contract Type'], description='Compare by')\n",
    "time_widget = widgets.RadioButtons(options=['Calendar Dates', 'Days from Expiry'], description='Time Criteria')\n",
    "\n",
    "# Display widgets\n",
    "display(data_type_widget, state_widget, contract_type_widget, quarter_widget, year_widget, compare_by_widget, time_widget)\n",
    "\n",
    "# Button to trigger the plot\n",
    "button = widgets.Button(description=\"Plot Comparison\")\n",
    "output = widgets.Output()\n",
    "\n",
    "def on_button_clicked(b):\n",
    "    with output:\n",
    "        output.clear_output()\n",
    "        plot_comparison(summary_df, data_type_widget.value, state_widget.value, contract_type_widget.value, quarter_widget.value, year_widget.value, compare_by_widget.value, time_widget.value)\n",
    "\n",
    "button.on_click(on_button_clicked)\n",
    "display(button, output)"
   ]
  },
  {
   "cell_type": "code",
   "execution_count": null,
   "id": "946aaaf6",
   "metadata": {},
   "outputs": [],
   "source": []
  }
 ],
 "metadata": {
  "kernelspec": {
   "display_name": "Python 3",
   "language": "python",
   "name": "python3"
  },
  "language_info": {
   "codemirror_mode": {
    "name": "ipython",
    "version": 3
   },
   "file_extension": ".py",
   "mimetype": "text/x-python",
   "name": "python",
   "nbconvert_exporter": "python",
   "pygments_lexer": "ipython3",
   "version": "3.8.8"
  }
 },
 "nbformat": 4,
 "nbformat_minor": 5
}
