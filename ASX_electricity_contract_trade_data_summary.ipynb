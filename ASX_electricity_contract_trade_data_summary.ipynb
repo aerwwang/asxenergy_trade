{
 "cells": [
  {
   "cell_type": "code",
   "execution_count": 1,
   "id": "dd16fb3b",
   "metadata": {},
   "outputs": [],
   "source": [
    "# Trade data summary for ASX electricity contract"
   ]
  },
  {
   "cell_type": "code",
   "execution_count": 2,
   "id": "26ca7df8",
   "metadata": {},
   "outputs": [],
   "source": [
    "# Import libraries\n",
    "import pandas as pd\n",
    "import re"
   ]
  },
  {
   "cell_type": "code",
   "execution_count": 3,
   "id": "647cf91c",
   "metadata": {},
   "outputs": [],
   "source": [
    "file_path = 'trades.csv'"
   ]
  },
  {
   "cell_type": "code",
   "execution_count": 4,
   "id": "2f3b7a3d",
   "metadata": {},
   "outputs": [],
   "source": [
    "contracts = ['Base', 'Peak', 'Cap', 'Base_strip', 'Peak_strip', 'Cap_strip']\n",
    "states = ['NSW', 'QLD', 'VIC', 'SA']\n",
    "expiries = ['Q1', 'Q2', 'Q3', 'Q4']\n",
    "years = [2022, 2023, 2024, 2025, 2026]"
   ]
  },
  {
   "cell_type": "code",
   "execution_count": 5,
   "id": "1eec660a",
   "metadata": {},
   "outputs": [],
   "source": [
    "# Define the mappings from the ASX electricity contract cheat sheet\n",
    "contract_codes = {\n",
    "    'B': 'Base', 'P': 'Peak', 'G': 'Cap', # $300 cap\n",
    "    'H': 'Base_strip', 'D': 'Peak_strip', 'R': 'Cap_strip'\n",
    "}\n",
    "\n",
    "region_codes = {\n",
    "    'N': 'NSW', 'Q': 'QLD', 'V': 'VIC', 'S': 'SA'\n",
    "}\n",
    "\n",
    "expiry_month_codes = {\n",
    "    'F': 'JAN', 'G': 'FEB', 'H': 'MAR', 'J': 'APR', \n",
    "    'K': 'MAY', 'M': 'JUN', 'N': 'JUL', 'Q': 'AUG', \n",
    "    'U': 'SEP', 'V': 'OCT', 'X': 'NOV', 'Z': 'DEC'\n",
    "}\n",
    "\n",
    "quarter_codes = {\n",
    "    'H': 'Q1', 'M': 'Q2', 'U': 'Q3', 'Z': 'Q4'\n",
    "}"
   ]
  },
  {
   "cell_type": "code",
   "execution_count": 6,
   "id": "6f1a10b4",
   "metadata": {},
   "outputs": [],
   "source": [
    "# Function to decode the product code to plain English\n",
    "def decode(code):\n",
    "    match = re.match(r'([A-Z])([A-Z])([A-Z])(\\d{4})([A-Z]?)(\\d{7})?', code)\n",
    "    \n",
    "    if match:\n",
    "        contract = contract_codes.get(match.group(1), '')\n",
    "        region = region_codes.get(match.group(2), '')\n",
    "        expiry = quarter_codes.get(match.group(3), '')\n",
    "        year = match.group(4)\n",
    "        option_type = match.group(5)\n",
    "        strike_price = match.group(6)\n",
    "        \n",
    "        if not contract:\n",
    "            raise ValueError(f\"Invalid contract code: {match.group(1)}\")\n",
    "        if not region:\n",
    "            raise ValueError(f\"Invalid region code: {match.group(2)}\")\n",
    "        if not expiry:\n",
    "            raise ValueError(f\"Invalid expiry code: {match.group(3)}\")\n",
    "        \n",
    "        if option_type == \"F\":\n",
    "            return f\"{contract} {region} {expiry} {year}\"\n",
    "        elif option_type in [\"C\", \"P\"]:\n",
    "            option = \"Call option\" if option_type == \"C\" else \"Put option\"\n",
    "            strike_price_dollars = f\"${int(strike_price) / 100:.2f}\"\n",
    "            return f\"{contract} {region} {expiry} {year} {option} with a strike price of {strike_price_dollars}\"\n",
    "    \n",
    "    return f\"{code} - Invalid code\""
   ]
  },
  {
   "cell_type": "code",
   "execution_count": 7,
   "id": "8856fce0",
   "metadata": {},
   "outputs": [],
   "source": [
    "# Function to encode plain English to product code\n",
    "def encode(plain_english):\n",
    "    try:\n",
    "        parts = plain_english.split()\n",
    "        \n",
    "        if len(parts) == 4 or len(parts) == 8:\n",
    "            contract = parts[0]\n",
    "            region = parts[1]\n",
    "            expiry = parts[2]\n",
    "            year_code = parts[3]\n",
    "            \n",
    "            contract_code = next((k for k, v in contract_codes.items() if v == contract), None)\n",
    "            region_code = next((k for k, v in region_codes.items() if v == region), None)\n",
    "            expiry_code = next((k for k, v in quarter_codes.items() if v == expiry), None)\n",
    "            \n",
    "            if not contract_code:\n",
    "                raise ValueError(f\"Invalid contract code: {contract}\")\n",
    "            if not region_code:\n",
    "                raise ValueError(f\"Invalid region code: {region}\")\n",
    "            if not expiry_code:\n",
    "                raise ValueError(f\"Invalid expiry code: {expiry}\")\n",
    "            \n",
    "            if len(parts) == 4:\n",
    "                return f\"{contract_code}{region_code}{expiry_code}{year_code}F\"\n",
    "            \n",
    "            option_type = \"C\" if parts[4] == \"Call\" else \"P\"\n",
    "            strike_price_cents = f\"{int(float(parts[-1][1:]) * 100):07d}\"\n",
    "            return f\"{contract_code}{region_code}{expiry_code}{year_code}{option_type}{strike_price_cents}\"\n",
    "        \n",
    "        raise ValueError(\"Invalid input format.\")\n",
    "    \n",
    "    except Exception as e:\n",
    "        return f\"Error: {str(e)}\""
   ]
  },
  {
   "cell_type": "code",
   "execution_count": 8,
   "id": "72ecdc74",
   "metadata": {},
   "outputs": [
    {
     "name": "stdout",
     "output_type": "stream",
     "text": [
      "Decoded: Base NSW Q1 2022 Call option with a strike price of $60.00\n",
      "Encoded: GQZ2025F\n"
     ]
    }
   ],
   "source": [
    "# Example usage of the above encode and decode functions\n",
    "code = \"BNH2022C0006000\"\n",
    "plain_english = \"Cap QLD Q4 2025\"\n",
    "\n",
    "decoded = decode(code)\n",
    "encoded = encode(plain_english)\n",
    "\n",
    "print(f\"Decoded: {decoded}\")\n",
    "print(f\"Encoded: {encoded}\")"
   ]
  },
  {
   "cell_type": "code",
   "execution_count": 9,
   "id": "2412b61d",
   "metadata": {},
   "outputs": [],
   "source": [
    "def generate_trade_codes(contracts, states, expiries, years):\n",
    "    trade_codes = []\n",
    "    for contract in contracts:\n",
    "        for state in states:\n",
    "            for expiry in expiries:\n",
    "                for year in years:\n",
    "                    trade_code = f\"{contract} {state} {expiry} {year}\"\n",
    "                    trade_codes.append(encode(trade_code))\n",
    "    return trade_codes\n",
    "\n",
    "trade_codes_of_interest = generate_trade_codes(contracts, states, expiries, years)\n",
    "# print(trade_codes_of_interest)"
   ]
  },
  {
   "cell_type": "code",
   "execution_count": 10,
   "id": "695e1a52",
   "metadata": {},
   "outputs": [],
   "source": [
    "def read_trade_data(file_path):\n",
    "    # Skip the first line with the separator information\n",
    "    df = pd.read_csv(file_path, skiprows=1)\n",
    "    df['Date'] = pd.to_datetime(df['Date'])  # Convert Date column to datetime format\n",
    "    return df"
   ]
  },
  {
   "cell_type": "code",
   "execution_count": 11,
   "id": "fc8b4377",
   "metadata": {},
   "outputs": [
    {
     "name": "stdout",
     "output_type": "stream",
     "text": [
      "107\n"
     ]
    }
   ],
   "source": [
    "# Calculate the number of days a trade is away from the contract expiry\n",
    "def days_from_expiry(contract_code, trade_date):\n",
    "    # Decode the contract code\n",
    "    decoded_info = decode(contract_code)\n",
    "    if \"Invalid code\" in decoded_info:\n",
    "        return decoded_info\n",
    "    \n",
    "    # Extract expiry quarter and year\n",
    "    parts = decoded_info.split()\n",
    "    expiry_quarter = parts[2]\n",
    "    expiry_year = parts[3]\n",
    "    \n",
    "    # Define the last day of each quarter\n",
    "    last_days = {\n",
    "        'Q1': '31/03',\n",
    "        'Q2': '30/06',\n",
    "        'Q3': '30/09',\n",
    "        'Q4': '31/12'\n",
    "    }\n",
    "    \n",
    "    # Get the last day for the given quarter\n",
    "    last_day = last_days.get(expiry_quarter)\n",
    "    \n",
    "    if last_day:\n",
    "        # Combine with the given year and convert to datetime object\n",
    "        expiry_date = pd.to_datetime(f\"{last_day}/{expiry_year}\", format=\"%d/%m/%Y\")\n",
    "    else:\n",
    "        return \"Invalid quarter\"\n",
    "    \n",
    "    # Convert trade date to datetime object\n",
    "    trade_date_dt = pd.to_datetime(trade_date, format=\"%d/%m/%Y\")\n",
    "    \n",
    "    # Calculate the number of days difference\n",
    "    days_diff = (expiry_date - trade_date_dt).days\n",
    "    \n",
    "    return days_diff\n",
    "\n",
    "# Example usage\n",
    "contract_code = \"BNM2024F\" # Base NSW Q2 2024\n",
    "trade_date = \"15/03/2024\"\n",
    "print(days_from_expiry(contract_code, trade_date))  # Output: 107"
   ]
  },
  {
   "cell_type": "code",
   "execution_count": 12,
   "id": "9deedf91",
   "metadata": {},
   "outputs": [],
   "source": [
    "def process_trade_data(df, trade_code):\n",
    "    # Filter the dataframe by the specified trade code\n",
    "    filtered_df = df[df['Code'] == trade_code]\n",
    "    \n",
    "    # Group by date and calculate the required sums\n",
    "    grouped_df = filtered_df.groupby('Date').agg({\n",
    "        'Cleared Volume': 'sum',\n",
    "        'Face Value': 'sum',\n",
    "        'Volume x MWh': 'sum'\n",
    "    }).reset_index()\n",
    "    \n",
    "    # Rename the columns\n",
    "    grouped_df.rename(columns={\n",
    "        'Cleared Volume': 'Daily contracts traded',\n",
    "        'Face Value': 'Daily dollars traded',\n",
    "        'Volume x MWh': 'Daily MWh traded'\n",
    "    }, inplace=True)\n",
    "    \n",
    "    # Calculate the daily volume weighted average price in $/MWh\n",
    "    grouped_df['Daily average price'] = grouped_df['Daily dollars traded'] / grouped_df['Daily MWh traded']\n",
    "    \n",
    "    # Calculate the cumulative sums\n",
    "    grouped_df['Cumulative MWh traded'] = grouped_df['Daily MWh traded'].cumsum()\n",
    "    grouped_df['Cumulative dollars traded'] = grouped_df['Daily dollars traded'].cumsum()\n",
    "    \n",
    "    # Calculate the cumulative trade volume-weighted average price in $/MWh\n",
    "    grouped_df['Cumulative average price'] = grouped_df['Cumulative dollars traded'] / grouped_df['Cumulative MWh traded']\n",
    "    \n",
    "    # Calculate the number of days of the trade from contract expiry\n",
    "    grouped_df['Days from expiry'] = grouped_df['Date'].apply(lambda x: days_from_expiry(trade_code, x.strftime(\"%d/%m/%Y\")))\n",
    "    \n",
    "    return grouped_df"
   ]
  },
  {
   "cell_type": "code",
   "execution_count": 13,
   "id": "bccaa310",
   "metadata": {},
   "outputs": [],
   "source": [
    "df = read_trade_data(file_path)"
   ]
  },
  {
   "cell_type": "code",
   "execution_count": 14,
   "id": "1ad76173",
   "metadata": {},
   "outputs": [],
   "source": [
    "# Create an empty dataframe which covers all days with trades\n",
    "start = pd.Timestamp.max\n",
    "end = pd.Timestamp.min\n",
    "\n",
    "for trade_code in trade_codes_of_interest:\n",
    "    filtered_df = df[df['Code'] == trade_code]\n",
    "    start_temp = filtered_df['Date'].min()\n",
    "    end_temp = filtered_df['Date'].max()\n",
    "    \n",
    "    if start > start_temp:\n",
    "        start = start_temp\n",
    "    if end < end_temp:\n",
    "        end = end_temp\n",
    "\n",
    "# Initialize an empty summary dataframe with all possible dates\n",
    "all_dates = pd.date_range(start=start, end=end)\n",
    "summary_df = pd.DataFrame({'Date': all_dates})"
   ]
  },
  {
   "cell_type": "code",
   "execution_count": 15,
   "id": "2f3740cd",
   "metadata": {
    "vscode": {
     "languageId": "ruby"
    }
   },
   "outputs": [],
   "source": [
    "collated_df_list = []\n",
    "\n",
    "for trade_code in trade_codes_of_interest:\n",
    "    # Step 1: Process trade data\n",
    "    result_df = process_trade_data(df, trade_code)\n",
    "    \n",
    "    # Step 2: Decode the trade code to plain English\n",
    "    plain_english_name = decode(trade_code)\n",
    "    \n",
    "    # Step 3: Find the last day of all trades for that trade code\n",
    "    last_trade_date = result_df['Date'].max()\n",
    "    \n",
    "    # Step 4: Forward fill missing values until the last day of trade\n",
    "    result_df = result_df.set_index('Date').reindex(all_dates).fillna(method='ffill')\n",
    "    result_df = result_df[result_df.index <= last_trade_date].reset_index()\n",
    "    \n",
    "    # Step 5: Create a temporary dataframe with the selected columns\n",
    "    temp_df = pd.DataFrame({\n",
    "        f'Days from expiry for {plain_english_name}': result_df['Days from expiry'],\n",
    "        f'Daily average price for {plain_english_name}': result_df['Daily average price'],\n",
    "        f'Cumulative average price for {plain_english_name}': result_df['Cumulative average price'],\n",
    "        f'Daily MWh traded for {plain_english_name}': result_df['Daily MWh traded'],\n",
    "        f'Cumulative MWh traded for {plain_english_name}': result_df['Cumulative MWh traded'],\n",
    "        f'Daily dollars traded for {plain_english_name}': result_df['Daily dollars traded'],\n",
    "        f'Cumulative dollars traded for {plain_english_name}': result_df['Cumulative dollars traded']\n",
    "    })\n",
    "    \n",
    "    # Append the temporary dataframe to the list\n",
    "    collated_df_list.append(temp_df)\n",
    "\n",
    "# Concatenate all dataframes in the list along the columns\n",
    "collated_df = pd.concat(collated_df_list, axis=1)\n",
    "\n",
    "# Concatenate the collated dataframe with the summary dataframe\n",
    "summary_df = pd.concat([summary_df, collated_df], axis=1)"
   ]
  },
  {
   "cell_type": "code",
   "execution_count": 16,
   "id": "b2eb1ed2",
   "metadata": {},
   "outputs": [],
   "source": [
    "summary_df.to_csv('summary.csv')"
   ]
  }
 ],
 "metadata": {
  "kernelspec": {
   "display_name": "py38_default",
   "language": "python",
   "name": "python3"
  },
  "language_info": {
   "codemirror_mode": {
    "name": "ipython",
    "version": 3
   },
   "file_extension": ".py",
   "mimetype": "text/x-python",
   "name": "python",
   "nbconvert_exporter": "python",
   "pygments_lexer": "ipython3",
   "version": "3.8.16"
  }
 },
 "nbformat": 4,
 "nbformat_minor": 5
}
