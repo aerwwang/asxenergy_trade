{
/legacy,
 "cells": [
  {
   "cell_type": "code",
   "execution_count": 1,
   "metadata": {
    "collapsed": true
   },
   "outputs": [],
   "source": [
    "import re"
   ]
  },
  {
   "cell_type": "code",
   "execution_count": 2,
   "metadata": {},
   "outputs": [],
   "source": [
    "# Define the mappings from the cheat sheet\n",
    "contract_codes = {\n",
    "    'B': 'Base',\n",
    "    'P': 'Peak',\n",
    "    'G': 'Cap', # $300 cap\n",
    "    'H': 'Base strip',\n",
    "    'D': 'Peak strip',\n",
    "    'R': 'Cap strip'\n",
    "}\n",
    "\n",
    "region_codes = {\n",
    "    'N': 'NSW',\n",
    "    'Q': 'QLD',\n",
    "    'V': 'VIC',\n",
    "    'S': 'SA'\n",
    "}\n",
    "\n",
    "expiry_month_codes = {\n",
    "    'F': 'JAN', 'G': 'FEB', 'H': 'MAR', 'J': 'APR', \n",
    "    'K': 'MAY', 'M': 'JUN', 'N': 'JUL', 'Q': 'AUG', \n",
    "    'U': 'SEP', 'V': 'OCT', 'X': 'NOV', 'Z': 'DEC'\n",
    "}\n",
    "\n",
    "quarter_codes = {\n",
    "    'H': 'Q1', \n",
    "    'M': 'Q2', \n",
    "    'U': 'Q3', \n",
    "    'Z': 'Q4'\n",
    "}"
   ]
  },
  {
   "cell_type": "code",
   "execution_count": 3,
   "metadata": {
    "collapsed": true
   },
   "outputs": [],
   "source": [
    "# Function to decode the product code to plain English\n",
    "def decode(code):\n",
    "    match = re.match(r'([A-Z])([A-Z])([A-Z])(\\d{4})([A-Z]?)(\\d{7})?', code)\n",
    "    \n",
    "    if match:\n",
    "        contract = contract_codes.get(match.group(1), '')\n",
    "        region = region_codes.get(match.group(2), '')\n",
    "        expiry = quarter_codes.get(match.group(3), '')\n",
    "        year = match.group(4)\n",
    "        option_type = match.group(5)\n",
    "        strike_price = match.group(6)\n",
    "        \n",
    "        if option_type == \"F\":\n",
    "            return f\"{contract} {region} {expiry} {year}\"\n",
    "        elif option_type in [\"C\", \"P\"]:\n",
    "            option = \"Call option\" if option_type == \"C\" else \"Put option\"\n",
    "            strike_price_dollars = f\"${int(strike_price) / 100:.2f}\"\n",
    "            return f\"{contract} {region} {expiry} {year} {option} with a strike price of {strike_price_dollars}\"\n",
    "    \n",
    "    return \"Invalid code\""
   ]
  },
  {
   "cell_type": "code",
   "execution_count": 4,
   "metadata": {
    "collapsed": true
   },
   "outputs": [],
   "source": [
    "# Function to encode plain English to product code\n",
    "def encode(plain_english):\n",
    "    parts = plain_english.split()\n",
    "    \n",
    "    if len(parts) == 4:\n",
    "        contract_code = list(contract_codes.keys())[list(contract_codes.values()).index(parts[0])]\n",
    "        region_code = list(region_codes.keys())[list(region_codes.values()).index(parts[1])]\n",
    "        expiry_code = list(quarter_codes.keys())[list(quarter_codes.values()).index(parts[2])]\n",
    "        year_code = parts[3]\n",
    "        \n",
    "        return f\"{contract_code}{region_code}{expiry_code}{year_code}F\"\\\n",
    "    \n",
    "    elif len(parts) == 8:\n",
    "        contarct_code = list(contract_codes.keys())[list(contract_codes.values()).index(parts[0])]\n",
    "        region_code = list(region_codes.keys())[list(region_codes.values()).index(parts[1])]\n",
    "        expiry_code = list(quarter_codes.keys())[list(quarter_codes.values()).index(parts[2])]\n",
    "        year_code = parts[3]\n",
    "        option_type = \"C\" if parts[4] == \"Call\" else \"P\"\n",
    "        strike_price_cents = f\"{int(float(parts[-1][1:]) * 100):07d}\"\n",
    "        \n",
    "        return f\"{contract_code}{region_code}{expiry_code}{year_code}{option_type}{strike_price_cents}\"\n",
    "    \n",
    "    return \"Invalid input\""
   ]
  },
  {
   "cell_type": "code",
   "execution_count": 5,
   "metadata": {},
   "outputs": [
    {
     "name": "stdout",
     "output_type": "stream",
     "text": [
      "Decoded: Base NSW Q1 2022 Call option with a strike price of $60.00\n",
      "Encoded: GQZ2025F\n"
     ]
    }
   ],
   "source": [
    "# Example usage\n",
    "code = \"BNH2022C0006000\"\n",
    "plain_english = \"Cap QLD Q4 2025\"\n",
    "\n",
    "decoded = decode(code)\n",
    "encoded = encode(plain_english)\n",
    "\n",
    "print(f\"Decoded: {decoded}\")\n",
    "print(f\"Encoded: {encoded}\")"
   ]
  },
  {
   "cell_type": "code",
   "execution_count": null,
   "metadata": {
    "collapsed": true
   },
   "outputs": [],
   "source": []
  }
 ],
 "metadata": {
  "kernelspec": {
   "display_name": "Python 3",
   "language": "python",
   "name": "python3"
  },
  "language_info": {
   "codemirror_mode": {
    "name": "ipython",
    "version": 3
   },
   "file_extension": ".py",
   "mimetype": "text/x-python",
   "name": "python",
   "nbconvert_exporter": "python",
   "pygments_lexer": "ipython3",
   "version": "3.6.1"
  }
 },
 "nbformat": 4,
 "nbformat_minor": 2
}
