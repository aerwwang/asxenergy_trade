{
 "cells": [
  {
   "cell_type": "code",
   "execution_count": 1,
   "id": "dd16fb3b",
   "metadata": {},
   "outputs": [],
   "source": [
    "# Trade data summary for ASX electricity contract"
   ]
  },
  {
   "cell_type": "code",
   "execution_count": 2,
   "id": "26ca7df8",
   "metadata": {},
   "outputs": [],
   "source": [
    "# Import libraries\n",
    "import pandas as pd\n",
    "import re"
   ]
  },
  {
   "cell_type": "code",
   "execution_count": 3,
   "id": "647cf91c",
   "metadata": {},
   "outputs": [],
   "source": [
    "file_path = 'trades.csv'"
   ]
  },
  {
   "cell_type": "code",
   "execution_count": null,
   "id": "1eec660a",
   "metadata": {},
   "outputs": [],
   "source": [
    "# Define the mappings from the ASX electricity contract cheat sheet\n",
    "contract_codes = {\n",
    "    'B': 'Quarter_base_futures', 'P': 'Quarter_base_futures', 'G': 'Quarter_$300_cap',\n",
    "    'H': 'Base_strip', 'D': 'Peak_strip', 'R': 'Cap_strip',\n",
    "    'E': 'Month_base_futures'\n",
    "}\n",
    "\n",
    "region_codes = {\n",
    "    'N': 'NSW', 'Q': 'QLD', 'V': 'VIC', 'S': 'SA'\n",
    "}\n",
    "\n",
    "expiry_month_codes = {\n",
    "    'F': 'JAN', 'G': 'FEB', 'H': 'MAR', 'J': 'APR', \n",
    "    'K': 'MAY', 'M': 'JUN', 'N': 'JUL', 'Q': 'AUG', \n",
    "    'U': 'SEP', 'V': 'OCT', 'X': 'NOV', 'Z': 'DEC'\n",
    "}\n",
    "\n",
    "quarter_codes = {\n",
    "    'H': 'Q1', 'M': 'Q2', 'U': 'Q3', 'Z': 'Q4'\n",
    "}"
   ]
  },
  {
   "cell_type": "code",
   "execution_count": 5,
   "id": "6f1a10b4",
   "metadata": {},
   "outputs": [],
   "source": [
    "# Function to decode the product code to plain English\n",
    "def decode(code):\n",
    "    match = re.match(r'([A-Z])([A-Z])([A-Z])(\\d{4})([A-Z]?)(\\d{7})?', code)\n",
    "    \n",
    "    if match:\n",
    "        contract = contract_codes.get(match.group(1), '')\n",
    "        region = region_codes.get(match.group(2), '')\n",
    "        expiry = quarter_codes.get(match.group(3), '')\n",
    "        year = match.group(4)\n",
    "        option_type = match.group(5)\n",
    "        strike_price = match.group(6)\n",
    "        \n",
    "        if not contract:\n",
    "            raise ValueError(f\"Invalid contract code: {match.group(1)}\")\n",
    "        if not region:\n",
    "            raise ValueError(f\"Invalid region code: {match.group(2)}\")\n",
    "        if not expiry:\n",
    "            raise ValueError(f\"Invalid expiry code: {match.group(3)}\")\n",
    "        \n",
    "        if option_type == \"F\":\n",
    "            return f\"{contract} {region} {expiry} {year}\"\n",
    "        elif option_type in [\"C\", \"P\"]:\n",
    "            option = \"Call option\" if option_type == \"C\" else \"Put option\"\n",
    "            strike_price_dollars = f\"${int(strike_price) / 100:.2f}\"\n",
    "            return f\"{contract} {region} {expiry} {year} {option} with a strike price of {strike_price_dollars}\"\n",
    "    \n",
    "    return f\"{code} - Invalid code\""
   ]
  },
  {
   "cell_type": "code",
   "execution_count": 6,
   "id": "8856fce0",
   "metadata": {},
   "outputs": [],
   "source": [
    "# Function to encode plain English to product code\n",
    "def encode(plain_english):\n",
    "    try:\n",
    "        parts = plain_english.split()\n",
    "        \n",
    "        if len(parts) == 4 or len(parts) == 8:\n",
    "            contract = parts[0]\n",
    "            region = parts[1]\n",
    "            expiry = parts[2]\n",
    "            year_code = parts[3]\n",
    "            \n",
    "            contract_code = next((k for k, v in contract_codes.items() if v == contract), None)\n",
    "            region_code = next((k for k, v in region_codes.items() if v == region), None)\n",
    "            expiry_code = next((k for k, v in quarter_codes.items() if v == expiry), None)\n",
    "            \n",
    "            if not contract_code:\n",
    "                raise ValueError(f\"Invalid contract code: {contract}\")\n",
    "            if not region_code:\n",
    "                raise ValueError(f\"Invalid region code: {region}\")\n",
    "            if not expiry_code:\n",
    "                raise ValueError(f\"Invalid expiry code: {expiry}\")\n",
    "            \n",
    "            if len(parts) == 4:\n",
    "                return f\"{contract_code}{region_code}{expiry_code}{year_code}F\"\n",
    "            \n",
    "            option_type = \"C\" if parts[4] == \"Call\" else \"P\"\n",
    "            strike_price_cents = f\"{int(float(parts[-1][1:]) * 100):07d}\"\n",
    "            return f\"{contract_code}{region_code}{expiry_code}{year_code}{option_type}{strike_price_cents}\"\n",
    "        \n",
    "        raise ValueError(\"Invalid input format.\")\n",
    "    \n",
    "    except Exception as e:\n",
    "        return f\"Error: {str(e)}\""
   ]
  },
  {
   "cell_type": "code",
   "execution_count": 7,
   "id": "72ecdc74",
   "metadata": {},
   "outputs": [
    {
     "name": "stdout",
     "output_type": "stream",
     "text": [
      "Decoded: Base NSW Q1 2022 Call option with a strike price of $60.00\n",
      "Encoded: GQZ2025F\n"
     ]
    }
   ],
   "source": [
    "# Example usage of the above encode and decode functions\n",
    "code = \"BNH2022C0006000\"\n",
    "plain_english = \"Cap QLD Q4 2025\"\n",
    "\n",
    "decoded = decode(code)\n",
    "encoded = encode(plain_english)\n",
    "\n",
    "print(f\"Decoded: {decoded}\")\n",
    "print(f\"Encoded: {encoded}\")"
   ]
  },
  {
   "cell_type": "code",
   "execution_count": 8,
   "id": "695e1a52",
   "metadata": {},
   "outputs": [],
   "source": [
    "def read_trade_data(file_path):\n",
    "    # Skip the first line with the separator information\n",
    "    df = pd.read_csv(file_path, skiprows=1)\n",
    "    df['Date'] = pd.to_datetime(df['Date'])  # Convert Date column to datetime format\n",
    "    return df"
   ]
  },
  {
   "cell_type": "code",
   "execution_count": null,
   "id": "dfa17b7e",
   "metadata": {},
   "outputs": [],
   "source": [
    "# Calculate the number of days a trade is away from the contract expiry\n",
    "def get_expiry_date(contract_code):\n",
    "    # Decode the contract code\n",
    "    decoded_info = decode(contract_code)\n",
    "    if \"Invalid code\" in decoded_info:\n",
    "        return decoded_info\n",
    "    \n",
    "    # Extract expiry quarter and year\n",
    "    parts = decoded_info.split()\n",
    "    expiry_quarter = parts[2]\n",
    "    expiry_year = parts[3]\n",
    "    \n",
    "    # Define the last day of each quarter\n",
    "    last_days = {\n",
    "        'Q1': '31/03',\n",
    "        'Q2': '30/06',\n",
    "        'Q3': '30/09',\n",
    "        'Q4': '31/12'\n",
    "    }\n",
    "    \n",
    "    # Get the last day for the given quarter\n",
    "    last_day = last_days.get(expiry_quarter)\n",
    "    \n",
    "    if last_day:\n",
    "        # Combine with the given year and convert to datetime object\n",
    "        return pd.to_datetime(f\"{last_day}/{expiry_year}\", format=\"%d/%m/%Y\")\n",
    "    else:\n",
    "        return \"Invalid quarter\""
   ]
  },
  {
   "cell_type": "code",
   "execution_count": 10,
   "id": "46e13972",
   "metadata": {},
   "outputs": [],
   "source": [
    "def process_trade_data(df, trade_code):\n",
    "    # Filter the dataframe by the specified trade code\n",
    "    filtered_df = df[df['Code'] == trade_code]\n",
    "\n",
    "    # Group by date and calculate the required sums\n",
    "    grouped_df = filtered_df.groupby('Date').agg({\n",
    "        'Cleared Volume': 'sum',\n",
    "        'Face Value': 'sum',\n",
    "        'Volume x MWh': 'sum',\n",
    "        'Code': 'first',\n",
    "        'Product': 'first',\n",
    "        'Location': 'first',\n",
    "        'Trade Type': 'first',\n",
    "        'Period': 'first',\n",
    "        'Year': 'first'\n",
    "    }).reset_index()\n",
    "\n",
    "    # Rename the columns\n",
    "    grouped_df.rename(columns={\n",
    "        'Cleared Volume': 'Daily contracts traded',\n",
    "        'Face Value': 'Daily dollars traded',\n",
    "        'Volume x MWh': 'Daily MWh traded'\n",
    "    }, inplace=True)\n",
    "\n",
    "    # Calculate the daily volume weighted average price in $/MWh\n",
    "    grouped_df['Daily average price'] = grouped_df['Daily dollars traded'] / grouped_df['Daily MWh traded']\n",
    "\n",
    "    # Sort values by Date before calculating cumulative sums\n",
    "    grouped_df.sort_values(by=['Date'], inplace=True)\n",
    "\n",
    "    # Calculate the cumulative sums\n",
    "    grouped_df['Cumulative MWh traded'] = grouped_df['Daily MWh traded'].cumsum()\n",
    "    grouped_df['Cumulative dollars traded'] = grouped_df['Daily dollars traded'].cumsum()\n",
    "\n",
    "    # Calculate the cumulative trade volume-weighted average price in $/MWh\n",
    "    grouped_df['Cumulative average price'] = grouped_df['Cumulative dollars traded'] / grouped_df['Cumulative MWh traded']\n",
    "\n",
    "    # Get the contract expiry date\n",
    "    expiry_date = get_expiry_date(trade_code)\n",
    "\n",
    "    # Generate a date range covering all dates from the min to max date in the data\n",
    "    all_dates = pd.date_range(start=grouped_df['Date'].min(), end=grouped_df['Date'].max())\n",
    "\n",
    "    # Forward fill missing values until the last day of trade\n",
    "    grouped_df = grouped_df.set_index('Date').reindex(all_dates).fillna(method='ffill')\n",
    "\n",
    "    # Reset the index to make the date column a regular column again\n",
    "    grouped_df = grouped_df.reset_index().rename(columns={'index': 'Date'})\n",
    "\n",
    "    # Calculate the number of days of the trade from contract expiry\n",
    "    grouped_df['Days from expiry'] = grouped_df['Date'].apply(lambda x: (x - expiry_date).days)\n",
    "\n",
    "    return grouped_df\n"
   ]
  },
  {
   "cell_type": "code",
   "execution_count": 11,
   "id": "bccaa310",
   "metadata": {},
   "outputs": [],
   "source": [
    "df = read_trade_data(file_path)"
   ]
  },
  {
   "cell_type": "code",
   "execution_count": 12,
   "id": "b17a71b1",
   "metadata": {},
   "outputs": [],
   "source": [
    "all_trade_codes = df['Code'].unique()"
   ]
  },
  {
   "cell_type": "code",
   "execution_count": 13,
   "id": "e84dbb4f",
   "metadata": {},
   "outputs": [
    {
     "name": "stdout",
     "output_type": "stream",
     "text": [
      "        Date  Daily contracts traded  Daily dollars traded  Daily MWh traded  \\\n",
      "0 2018-10-16                      25              876000.0            219000   \n",
      "\n",
      "              Code Product Location Trade Type Period  Year  \\\n",
      "0  HVM2022P0006200  Option      VIC  On Screen    Fin  2022   \n",
      "\n",
      "   Daily average price  Cumulative MWh traded  Cumulative dollars traded  \\\n",
      "0                  4.0                 219000                   876000.0   \n",
      "\n",
      "   Cumulative average price  Days from expiry  \n",
      "0                       4.0             -1353  \n"
     ]
    }
   ],
   "source": [
    "result_df = process_trade_data(df, all_trade_codes[0])\n",
    "print(result_df)"
   ]
  },
  {
   "cell_type": "code",
   "execution_count": 14,
   "id": "b47b0e2d",
   "metadata": {
    "vscode": {
     "languageId": "ruby"
    }
   },
   "outputs": [
    {
     "ename": "ValueError",
     "evalue": "Invalid contract code: E",
     "output_type": "error",
     "traceback": [
      "\u001b[1;31m---------------------------------------------------------------------------\u001b[0m",
      "\u001b[1;31mValueError\u001b[0m                                Traceback (most recent call last)",
      "Cell \u001b[1;32mIn[14], line 7\u001b[0m\n\u001b[0;32m      4\u001b[0m \u001b[38;5;66;03m# Loop through each trade code in the list of interest\u001b[39;00m\n\u001b[0;32m      5\u001b[0m \u001b[38;5;28;01mfor\u001b[39;00m trade_code \u001b[38;5;129;01min\u001b[39;00m all_trade_codes:\n\u001b[0;32m      6\u001b[0m     \u001b[38;5;66;03m# Call the process_trade_data function and get the result for the current trade code\u001b[39;00m\n\u001b[1;32m----> 7\u001b[0m     result_df \u001b[38;5;241m=\u001b[39m \u001b[43mprocess_trade_data\u001b[49m\u001b[43m(\u001b[49m\u001b[43mdf\u001b[49m\u001b[43m,\u001b[49m\u001b[43m \u001b[49m\u001b[43mtrade_code\u001b[49m\u001b[43m)\u001b[49m\n\u001b[0;32m      9\u001b[0m     \u001b[38;5;66;03m# Append the result_df to the final_df\u001b[39;00m\n\u001b[0;32m     10\u001b[0m     final_df \u001b[38;5;241m=\u001b[39m pd\u001b[38;5;241m.\u001b[39mconcat([final_df, result_df], ignore_index\u001b[38;5;241m=\u001b[39m\u001b[38;5;28;01mTrue\u001b[39;00m)\n",
      "Cell \u001b[1;32mIn[10], line 39\u001b[0m, in \u001b[0;36mprocess_trade_data\u001b[1;34m(df, trade_code)\u001b[0m\n\u001b[0;32m     36\u001b[0m grouped_df[\u001b[38;5;124m'\u001b[39m\u001b[38;5;124mCumulative average price\u001b[39m\u001b[38;5;124m'\u001b[39m] \u001b[38;5;241m=\u001b[39m grouped_df[\u001b[38;5;124m'\u001b[39m\u001b[38;5;124mCumulative dollars traded\u001b[39m\u001b[38;5;124m'\u001b[39m] \u001b[38;5;241m/\u001b[39m grouped_df[\u001b[38;5;124m'\u001b[39m\u001b[38;5;124mCumulative MWh traded\u001b[39m\u001b[38;5;124m'\u001b[39m]\n\u001b[0;32m     38\u001b[0m \u001b[38;5;66;03m# Get the contract expiry date\u001b[39;00m\n\u001b[1;32m---> 39\u001b[0m expiry_date \u001b[38;5;241m=\u001b[39m \u001b[43mget_expiry_date\u001b[49m\u001b[43m(\u001b[49m\u001b[43mtrade_code\u001b[49m\u001b[43m)\u001b[49m\n\u001b[0;32m     41\u001b[0m \u001b[38;5;66;03m# Generate a date range covering all dates from the min to max date in the data\u001b[39;00m\n\u001b[0;32m     42\u001b[0m all_dates \u001b[38;5;241m=\u001b[39m pd\u001b[38;5;241m.\u001b[39mdate_range(start\u001b[38;5;241m=\u001b[39mgrouped_df[\u001b[38;5;124m'\u001b[39m\u001b[38;5;124mDate\u001b[39m\u001b[38;5;124m'\u001b[39m]\u001b[38;5;241m.\u001b[39mmin(), end\u001b[38;5;241m=\u001b[39mgrouped_df[\u001b[38;5;124m'\u001b[39m\u001b[38;5;124mDate\u001b[39m\u001b[38;5;124m'\u001b[39m]\u001b[38;5;241m.\u001b[39mmax())\n",
      "Cell \u001b[1;32mIn[9], line 4\u001b[0m, in \u001b[0;36mget_expiry_date\u001b[1;34m(contract_code)\u001b[0m\n\u001b[0;32m      2\u001b[0m \u001b[38;5;28;01mdef\u001b[39;00m \u001b[38;5;21mget_expiry_date\u001b[39m(contract_code):\n\u001b[0;32m      3\u001b[0m     \u001b[38;5;66;03m# Decode the contract code\u001b[39;00m\n\u001b[1;32m----> 4\u001b[0m     decoded_info \u001b[38;5;241m=\u001b[39m \u001b[43mdecode\u001b[49m\u001b[43m(\u001b[49m\u001b[43mcontract_code\u001b[49m\u001b[43m)\u001b[49m\n\u001b[0;32m      5\u001b[0m     \u001b[38;5;28;01mif\u001b[39;00m \u001b[38;5;124m\"\u001b[39m\u001b[38;5;124mInvalid code\u001b[39m\u001b[38;5;124m\"\u001b[39m \u001b[38;5;129;01min\u001b[39;00m decoded_info:\n\u001b[0;32m      6\u001b[0m         \u001b[38;5;28;01mreturn\u001b[39;00m decoded_info\n",
      "Cell \u001b[1;32mIn[5], line 14\u001b[0m, in \u001b[0;36mdecode\u001b[1;34m(code)\u001b[0m\n\u001b[0;32m     11\u001b[0m strike_price \u001b[38;5;241m=\u001b[39m match\u001b[38;5;241m.\u001b[39mgroup(\u001b[38;5;241m6\u001b[39m)\n\u001b[0;32m     13\u001b[0m \u001b[38;5;28;01mif\u001b[39;00m \u001b[38;5;129;01mnot\u001b[39;00m contract:\n\u001b[1;32m---> 14\u001b[0m     \u001b[38;5;28;01mraise\u001b[39;00m \u001b[38;5;167;01mValueError\u001b[39;00m(\u001b[38;5;124mf\u001b[39m\u001b[38;5;124m\"\u001b[39m\u001b[38;5;124mInvalid contract code: \u001b[39m\u001b[38;5;132;01m{\u001b[39;00mmatch\u001b[38;5;241m.\u001b[39mgroup(\u001b[38;5;241m1\u001b[39m)\u001b[38;5;132;01m}\u001b[39;00m\u001b[38;5;124m\"\u001b[39m)\n\u001b[0;32m     15\u001b[0m \u001b[38;5;28;01mif\u001b[39;00m \u001b[38;5;129;01mnot\u001b[39;00m region:\n\u001b[0;32m     16\u001b[0m     \u001b[38;5;28;01mraise\u001b[39;00m \u001b[38;5;167;01mValueError\u001b[39;00m(\u001b[38;5;124mf\u001b[39m\u001b[38;5;124m\"\u001b[39m\u001b[38;5;124mInvalid region code: \u001b[39m\u001b[38;5;132;01m{\u001b[39;00mmatch\u001b[38;5;241m.\u001b[39mgroup(\u001b[38;5;241m2\u001b[39m)\u001b[38;5;132;01m}\u001b[39;00m\u001b[38;5;124m\"\u001b[39m)\n",
      "\u001b[1;31mValueError\u001b[0m: Invalid contract code: E"
     ]
    }
   ],
   "source": [
    "# Initialize an empty DataFrame to store the final results\n",
    "final_df = pd.DataFrame()\n",
    "\n",
    "# Loop through each trade code in the list of interest\n",
    "for trade_code in all_trade_codes:\n",
    "    # Call the process_trade_data function and get the result for the current trade code\n",
    "    result_df = process_trade_data(df, trade_code)\n",
    "    \n",
    "    # Append the result_df to the final_df\n",
    "    final_df = pd.concat([final_df, result_df], ignore_index=True)\n",
    "\n",
    "# Now final_df contains the appended results for all trade codes\n"
   ]
  },
  {
   "cell_type": "code",
   "execution_count": null,
   "id": "b2eb1ed2",
   "metadata": {},
   "outputs": [],
   "source": [
    "final_df.to_csv('all_trades_summary.csv')"
   ]
  }
 ],
 "metadata": {
  "kernelspec": {
   "display_name": "py38_default",
   "language": "python",
   "name": "python3"
  },
  "language_info": {
   "codemirror_mode": {
    "name": "ipython",
    "version": 3
   },
   "file_extension": ".py",
   "mimetype": "text/x-python",
   "name": "python",
   "nbconvert_exporter": "python",
   "pygments_lexer": "ipython3",
   "version": "3.8.16"
  }
 },
 "nbformat": 4,
 "nbformat_minor": 5
}
