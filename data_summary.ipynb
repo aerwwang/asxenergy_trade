{
 "cells": [
  {
   "cell_type": "code",
   "execution_count": 1,
   "id": "dd16fb3b",
   "metadata": {},
   "outputs": [],
   "source": [
    "# Trade data summary for ASX electricity contract"
   ]
  },
  {
   "cell_type": "code",
   "execution_count": 2,
   "id": "26ca7df8",
   "metadata": {},
   "outputs": [],
   "source": [
    "# Import libraries\n",
    "import pandas as pd\n",
    "import re"
   ]
  },
  {
   "cell_type": "code",
   "execution_count": 3,
   "id": "647cf91c",
   "metadata": {},
   "outputs": [],
   "source": [
    "file_path = 'trades.csv'"
   ]
  },
  {
   "cell_type": "code",
   "execution_count": 4,
   "id": "2f3b7a3d",
   "metadata": {},
   "outputs": [],
   "source": [
    "contracts = ['Base', 'Peak', 'Cap', 'Base_strip', 'Peak_strip', 'Cap_strip']\n",
    "states = ['NSW', 'QLD', 'VIC', 'SA']\n",
    "expiries = ['Q1', 'Q2', 'Q3', 'Q4']\n",
    "years = [2022, 2023, 2024, 2025, 2026]"
   ]
  },
  {
   "cell_type": "code",
   "execution_count": 5,
   "id": "1eec660a",
   "metadata": {},
   "outputs": [],
   "source": [
    "# Define the mappings from the ASX electricity contract cheat sheet\n",
    "contract_codes = {\n",
    "    'B': 'Base', 'P': 'Peak', 'G': 'Cap', # $300 cap\n",
    "    'H': 'Base_strip', 'D': 'Peak_strip', 'R': 'Cap_strip'\n",
    "}\n",
    "\n",
    "region_codes = {\n",
    "    'N': 'NSW', 'Q': 'QLD', 'V': 'VIC', 'S': 'SA'\n",
    "}\n",
    "\n",
    "expiry_month_codes = {\n",
    "    'F': 'JAN', 'G': 'FEB', 'H': 'MAR', 'J': 'APR', \n",
    "    'K': 'MAY', 'M': 'JUN', 'N': 'JUL', 'Q': 'AUG', \n",
    "    'U': 'SEP', 'V': 'OCT', 'X': 'NOV', 'Z': 'DEC'\n",
    "}\n",
    "\n",
    "quarter_codes = {\n",
    "    'H': 'Q1', 'M': 'Q2', 'U': 'Q3', 'Z': 'Q4'\n",
    "}"
   ]
  },
  {
   "cell_type": "code",
   "execution_count": 6,
   "id": "6f1a10b4",
   "metadata": {},
   "outputs": [],
   "source": [
    "# Function to decode the product code to plain English\n",
    "def decode(code):\n",
    "    match = re.match(r'([A-Z])([A-Z])([A-Z])(\\d{4})([A-Z]?)(\\d{7})?', code)\n",
    "    \n",
    "    if match:\n",
    "        contract = contract_codes.get(match.group(1), '')\n",
    "        region = region_codes.get(match.group(2), '')\n",
    "        expiry = quarter_codes.get(match.group(3), '')\n",
    "        year = match.group(4)\n",
    "        option_type = match.group(5)\n",
    "        strike_price = match.group(6)\n",
    "        \n",
    "        if not contract:\n",
    "            raise ValueError(f\"Invalid contract code: {match.group(1)}\")\n",
    "        if not region:\n",
    "            raise ValueError(f\"Invalid region code: {match.group(2)}\")\n",
    "        if not expiry:\n",
    "            raise ValueError(f\"Invalid expiry code: {match.group(3)}\")\n",
    "        \n",
    "        if option_type == \"F\":\n",
    "            return f\"{contract} {region} {expiry} {year}\"\n",
    "        elif option_type in [\"C\", \"P\"]:\n",
    "            option = \"Call option\" if option_type == \"C\" else \"Put option\"\n",
    "            strike_price_dollars = f\"${int(strike_price) / 100:.2f}\"\n",
    "            return f\"{contract} {region} {expiry} {year} {option} with a strike price of {strike_price_dollars}\"\n",
    "    \n",
    "    return f\"{code} - Invalid code\""
   ]
  },
  {
   "cell_type": "code",
   "execution_count": 7,
   "id": "8856fce0",
   "metadata": {},
   "outputs": [],
   "source": [
    "# Function to encode plain English to product code\n",
    "def encode(plain_english):\n",
    "    try:\n",
    "        parts = plain_english.split()\n",
    "        \n",
    "        if len(parts) == 4 or len(parts) == 8:\n",
    "            contract = parts[0]\n",
    "            region = parts[1]\n",
    "            expiry = parts[2]\n",
    "            year_code = parts[3]\n",
    "            \n",
    "            contract_code = next((k for k, v in contract_codes.items() if v == contract), None)\n",
    "            region_code = next((k for k, v in region_codes.items() if v == region), None)\n",
    "            expiry_code = next((k for k, v in quarter_codes.items() if v == expiry), None)\n",
    "            \n",
    "            if not contract_code:\n",
    "                raise ValueError(f\"Invalid contract code: {contract}\")\n",
    "            if not region_code:\n",
    "                raise ValueError(f\"Invalid region code: {region}\")\n",
    "            if not expiry_code:\n",
    "                raise ValueError(f\"Invalid expiry code: {expiry}\")\n",
    "            \n",
    "            if len(parts) == 4:\n",
    "                return f\"{contract_code}{region_code}{expiry_code}{year_code}F\"\n",
    "            \n",
    "            option_type = \"C\" if parts[4] == \"Call\" else \"P\"\n",
    "            strike_price_cents = f\"{int(float(parts[-1][1:]) * 100):07d}\"\n",
    "            return f\"{contract_code}{region_code}{expiry_code}{year_code}{option_type}{strike_price_cents}\"\n",
    "        \n",
    "        raise ValueError(\"Invalid input format.\")\n",
    "    \n",
    "    except Exception as e:\n",
    "        return f\"Error: {str(e)}\""
   ]
  },
  {
   "cell_type": "code",
   "execution_count": 8,
   "id": "72ecdc74",
   "metadata": {},
   "outputs": [
    {
     "name": "stdout",
     "output_type": "stream",
     "text": [
      "Decoded: Base NSW Q1 2022 Call option with a strike price of $60.00\n",
      "Encoded: GQZ2025F\n"
     ]
    }
   ],
   "source": [
    "# Example usage of the above encode and decode functions\n",
    "code = \"BNH2022C0006000\"\n",
    "plain_english = \"Cap QLD Q4 2025\"\n",
    "\n",
    "decoded = decode(code)\n",
    "encoded = encode(plain_english)\n",
    "\n",
    "print(f\"Decoded: {decoded}\")\n",
    "print(f\"Encoded: {encoded}\")"
   ]
  },
  {
   "cell_type": "code",
   "execution_count": 9,
   "id": "2412b61d",
   "metadata": {},
   "outputs": [
    {
     "name": "stdout",
     "output_type": "stream",
     "text": [
      "['BNH2022F', 'BNH2023F', 'BNH2024F', 'BNH2025F', 'BNH2026F', 'BNM2022F', 'BNM2023F', 'BNM2024F', 'BNM2025F', 'BNM2026F', 'BNU2022F', 'BNU2023F', 'BNU2024F', 'BNU2025F', 'BNU2026F', 'BNZ2022F', 'BNZ2023F', 'BNZ2024F', 'BNZ2025F', 'BNZ2026F', 'BQH2022F', 'BQH2023F', 'BQH2024F', 'BQH2025F', 'BQH2026F', 'BQM2022F', 'BQM2023F', 'BQM2024F', 'BQM2025F', 'BQM2026F', 'BQU2022F', 'BQU2023F', 'BQU2024F', 'BQU2025F', 'BQU2026F', 'BQZ2022F', 'BQZ2023F', 'BQZ2024F', 'BQZ2025F', 'BQZ2026F', 'BVH2022F', 'BVH2023F', 'BVH2024F', 'BVH2025F', 'BVH2026F', 'BVM2022F', 'BVM2023F', 'BVM2024F', 'BVM2025F', 'BVM2026F', 'BVU2022F', 'BVU2023F', 'BVU2024F', 'BVU2025F', 'BVU2026F', 'BVZ2022F', 'BVZ2023F', 'BVZ2024F', 'BVZ2025F', 'BVZ2026F', 'BSH2022F', 'BSH2023F', 'BSH2024F', 'BSH2025F', 'BSH2026F', 'BSM2022F', 'BSM2023F', 'BSM2024F', 'BSM2025F', 'BSM2026F', 'BSU2022F', 'BSU2023F', 'BSU2024F', 'BSU2025F', 'BSU2026F', 'BSZ2022F', 'BSZ2023F', 'BSZ2024F', 'BSZ2025F', 'BSZ2026F', 'PNH2022F', 'PNH2023F', 'PNH2024F', 'PNH2025F', 'PNH2026F', 'PNM2022F', 'PNM2023F', 'PNM2024F', 'PNM2025F', 'PNM2026F', 'PNU2022F', 'PNU2023F', 'PNU2024F', 'PNU2025F', 'PNU2026F', 'PNZ2022F', 'PNZ2023F', 'PNZ2024F', 'PNZ2025F', 'PNZ2026F', 'PQH2022F', 'PQH2023F', 'PQH2024F', 'PQH2025F', 'PQH2026F', 'PQM2022F', 'PQM2023F', 'PQM2024F', 'PQM2025F', 'PQM2026F', 'PQU2022F', 'PQU2023F', 'PQU2024F', 'PQU2025F', 'PQU2026F', 'PQZ2022F', 'PQZ2023F', 'PQZ2024F', 'PQZ2025F', 'PQZ2026F', 'PVH2022F', 'PVH2023F', 'PVH2024F', 'PVH2025F', 'PVH2026F', 'PVM2022F', 'PVM2023F', 'PVM2024F', 'PVM2025F', 'PVM2026F', 'PVU2022F', 'PVU2023F', 'PVU2024F', 'PVU2025F', 'PVU2026F', 'PVZ2022F', 'PVZ2023F', 'PVZ2024F', 'PVZ2025F', 'PVZ2026F', 'PSH2022F', 'PSH2023F', 'PSH2024F', 'PSH2025F', 'PSH2026F', 'PSM2022F', 'PSM2023F', 'PSM2024F', 'PSM2025F', 'PSM2026F', 'PSU2022F', 'PSU2023F', 'PSU2024F', 'PSU2025F', 'PSU2026F', 'PSZ2022F', 'PSZ2023F', 'PSZ2024F', 'PSZ2025F', 'PSZ2026F', 'GNH2022F', 'GNH2023F', 'GNH2024F', 'GNH2025F', 'GNH2026F', 'GNM2022F', 'GNM2023F', 'GNM2024F', 'GNM2025F', 'GNM2026F', 'GNU2022F', 'GNU2023F', 'GNU2024F', 'GNU2025F', 'GNU2026F', 'GNZ2022F', 'GNZ2023F', 'GNZ2024F', 'GNZ2025F', 'GNZ2026F', 'GQH2022F', 'GQH2023F', 'GQH2024F', 'GQH2025F', 'GQH2026F', 'GQM2022F', 'GQM2023F', 'GQM2024F', 'GQM2025F', 'GQM2026F', 'GQU2022F', 'GQU2023F', 'GQU2024F', 'GQU2025F', 'GQU2026F', 'GQZ2022F', 'GQZ2023F', 'GQZ2024F', 'GQZ2025F', 'GQZ2026F', 'GVH2022F', 'GVH2023F', 'GVH2024F', 'GVH2025F', 'GVH2026F', 'GVM2022F', 'GVM2023F', 'GVM2024F', 'GVM2025F', 'GVM2026F', 'GVU2022F', 'GVU2023F', 'GVU2024F', 'GVU2025F', 'GVU2026F', 'GVZ2022F', 'GVZ2023F', 'GVZ2024F', 'GVZ2025F', 'GVZ2026F', 'GSH2022F', 'GSH2023F', 'GSH2024F', 'GSH2025F', 'GSH2026F', 'GSM2022F', 'GSM2023F', 'GSM2024F', 'GSM2025F', 'GSM2026F', 'GSU2022F', 'GSU2023F', 'GSU2024F', 'GSU2025F', 'GSU2026F', 'GSZ2022F', 'GSZ2023F', 'GSZ2024F', 'GSZ2025F', 'GSZ2026F', 'HNH2022F', 'HNH2023F', 'HNH2024F', 'HNH2025F', 'HNH2026F', 'HNM2022F', 'HNM2023F', 'HNM2024F', 'HNM2025F', 'HNM2026F', 'HNU2022F', 'HNU2023F', 'HNU2024F', 'HNU2025F', 'HNU2026F', 'HNZ2022F', 'HNZ2023F', 'HNZ2024F', 'HNZ2025F', 'HNZ2026F', 'HQH2022F', 'HQH2023F', 'HQH2024F', 'HQH2025F', 'HQH2026F', 'HQM2022F', 'HQM2023F', 'HQM2024F', 'HQM2025F', 'HQM2026F', 'HQU2022F', 'HQU2023F', 'HQU2024F', 'HQU2025F', 'HQU2026F', 'HQZ2022F', 'HQZ2023F', 'HQZ2024F', 'HQZ2025F', 'HQZ2026F', 'HVH2022F', 'HVH2023F', 'HVH2024F', 'HVH2025F', 'HVH2026F', 'HVM2022F', 'HVM2023F', 'HVM2024F', 'HVM2025F', 'HVM2026F', 'HVU2022F', 'HVU2023F', 'HVU2024F', 'HVU2025F', 'HVU2026F', 'HVZ2022F', 'HVZ2023F', 'HVZ2024F', 'HVZ2025F', 'HVZ2026F', 'HSH2022F', 'HSH2023F', 'HSH2024F', 'HSH2025F', 'HSH2026F', 'HSM2022F', 'HSM2023F', 'HSM2024F', 'HSM2025F', 'HSM2026F', 'HSU2022F', 'HSU2023F', 'HSU2024F', 'HSU2025F', 'HSU2026F', 'HSZ2022F', 'HSZ2023F', 'HSZ2024F', 'HSZ2025F', 'HSZ2026F', 'DNH2022F', 'DNH2023F', 'DNH2024F', 'DNH2025F', 'DNH2026F', 'DNM2022F', 'DNM2023F', 'DNM2024F', 'DNM2025F', 'DNM2026F', 'DNU2022F', 'DNU2023F', 'DNU2024F', 'DNU2025F', 'DNU2026F', 'DNZ2022F', 'DNZ2023F', 'DNZ2024F', 'DNZ2025F', 'DNZ2026F', 'DQH2022F', 'DQH2023F', 'DQH2024F', 'DQH2025F', 'DQH2026F', 'DQM2022F', 'DQM2023F', 'DQM2024F', 'DQM2025F', 'DQM2026F', 'DQU2022F', 'DQU2023F', 'DQU2024F', 'DQU2025F', 'DQU2026F', 'DQZ2022F', 'DQZ2023F', 'DQZ2024F', 'DQZ2025F', 'DQZ2026F', 'DVH2022F', 'DVH2023F', 'DVH2024F', 'DVH2025F', 'DVH2026F', 'DVM2022F', 'DVM2023F', 'DVM2024F', 'DVM2025F', 'DVM2026F', 'DVU2022F', 'DVU2023F', 'DVU2024F', 'DVU2025F', 'DVU2026F', 'DVZ2022F', 'DVZ2023F', 'DVZ2024F', 'DVZ2025F', 'DVZ2026F', 'DSH2022F', 'DSH2023F', 'DSH2024F', 'DSH2025F', 'DSH2026F', 'DSM2022F', 'DSM2023F', 'DSM2024F', 'DSM2025F', 'DSM2026F', 'DSU2022F', 'DSU2023F', 'DSU2024F', 'DSU2025F', 'DSU2026F', 'DSZ2022F', 'DSZ2023F', 'DSZ2024F', 'DSZ2025F', 'DSZ2026F', 'RNH2022F', 'RNH2023F', 'RNH2024F', 'RNH2025F', 'RNH2026F', 'RNM2022F', 'RNM2023F', 'RNM2024F', 'RNM2025F', 'RNM2026F', 'RNU2022F', 'RNU2023F', 'RNU2024F', 'RNU2025F', 'RNU2026F', 'RNZ2022F', 'RNZ2023F', 'RNZ2024F', 'RNZ2025F', 'RNZ2026F', 'RQH2022F', 'RQH2023F', 'RQH2024F', 'RQH2025F', 'RQH2026F', 'RQM2022F', 'RQM2023F', 'RQM2024F', 'RQM2025F', 'RQM2026F', 'RQU2022F', 'RQU2023F', 'RQU2024F', 'RQU2025F', 'RQU2026F', 'RQZ2022F', 'RQZ2023F', 'RQZ2024F', 'RQZ2025F', 'RQZ2026F', 'RVH2022F', 'RVH2023F', 'RVH2024F', 'RVH2025F', 'RVH2026F', 'RVM2022F', 'RVM2023F', 'RVM2024F', 'RVM2025F', 'RVM2026F', 'RVU2022F', 'RVU2023F', 'RVU2024F', 'RVU2025F', 'RVU2026F', 'RVZ2022F', 'RVZ2023F', 'RVZ2024F', 'RVZ2025F', 'RVZ2026F', 'RSH2022F', 'RSH2023F', 'RSH2024F', 'RSH2025F', 'RSH2026F', 'RSM2022F', 'RSM2023F', 'RSM2024F', 'RSM2025F', 'RSM2026F', 'RSU2022F', 'RSU2023F', 'RSU2024F', 'RSU2025F', 'RSU2026F', 'RSZ2022F', 'RSZ2023F', 'RSZ2024F', 'RSZ2025F', 'RSZ2026F']\n"
     ]
    }
   ],
   "source": [
    "def generate_trade_codes(contracts, states, expiries, years):\n",
    "    trade_codes = []\n",
    "    for contract in contracts:\n",
    "        for state in states:\n",
    "            for expiry in expiries:\n",
    "                for year in years:\n",
    "                    trade_code = f\"{contract} {state} {expiry} {year}\"\n",
    "                    trade_codes.append(encode(trade_code))\n",
    "    return trade_codes\n",
    "\n",
    "trade_codes_of_interest = generate_trade_codes(contracts, states, expiries, years)\n",
    "print(trade_codes_of_interest)"
   ]
  },
  {
   "cell_type": "code",
   "execution_count": 10,
   "id": "695e1a52",
   "metadata": {},
   "outputs": [],
   "source": [
    "def read_trade_data(file_path):\n",
    "    # Skip the first line with the separator information\n",
    "    df = pd.read_csv(file_path, skiprows=1)\n",
    "    df['Date'] = pd.to_datetime(df['Date'])  # Convert Date column to datetime format\n",
    "    return df"
   ]
  },
  {
   "cell_type": "code",
   "execution_count": 11,
   "id": "fc8b4377",
   "metadata": {},
   "outputs": [
    {
     "name": "stdout",
     "output_type": "stream",
     "text": [
      "107\n"
     ]
    }
   ],
   "source": [
    "# Calculate the number of days a trade is away from the contract expiry\n",
    "def days_from_expiry(contract_code, trade_date):\n",
    "    # Decode the contract code\n",
    "    decoded_info = decode(contract_code)\n",
    "    if \"Invalid code\" in decoded_info:\n",
    "        return decoded_info\n",
    "    \n",
    "    # Extract expiry quarter and year\n",
    "    parts = decoded_info.split()\n",
    "    expiry_quarter = parts[2]\n",
    "    expiry_year = parts[3]\n",
    "    \n",
    "    # Define the last day of each quarter\n",
    "    last_days = {\n",
    "        'Q1': '31/03',\n",
    "        'Q2': '30/06',\n",
    "        'Q3': '30/09',\n",
    "        'Q4': '31/12'\n",
    "    }\n",
    "    \n",
    "    # Get the last day for the given quarter\n",
    "    last_day = last_days.get(expiry_quarter)\n",
    "    \n",
    "    if last_day:\n",
    "        # Combine with the given year and convert to datetime object\n",
    "        expiry_date = pd.to_datetime(f\"{last_day}/{expiry_year}\", format=\"%d/%m/%Y\")\n",
    "    else:\n",
    "        return \"Invalid quarter\"\n",
    "    \n",
    "    # Convert trade date to datetime object\n",
    "    trade_date_dt = pd.to_datetime(trade_date, format=\"%d/%m/%Y\")\n",
    "    \n",
    "    # Calculate the number of days difference\n",
    "    days_diff = (expiry_date - trade_date_dt).days\n",
    "    \n",
    "    return days_diff\n",
    "\n",
    "# Example usage\n",
    "contract_code = \"BNM2024F\" # Base NSW Q2 2024\n",
    "trade_date = \"15/03/2024\"\n",
    "print(days_from_expiry(contract_code, trade_date))  # Output: 107"
   ]
  },
  {
   "cell_type": "code",
   "execution_count": 12,
   "id": "46e13972",
   "metadata": {},
   "outputs": [],
   "source": [
    "def process_trade_data(df, trade_code, all_dates):\n",
    "    # Filter the dataframe by the specified trade code\n",
    "    filtered_df = df[df['Code'] == trade_code]\n",
    "\n",
    "    #print(filtered_df.head())\n",
    "\n",
    "    # Group by date and calculate the required sums\n",
    "    grouped_df = filtered_df.groupby('Date').agg({\n",
    "        'Cleared Volume': 'sum',\n",
    "        'Face Value': 'sum',\n",
    "        'Volume x MWh': 'sum',\n",
    "        'Code': 'first',\n",
    "        'Product': 'first',\n",
    "        'Location': 'first',\n",
    "        'Trade Type': 'first',\n",
    "        'Period': 'first',\n",
    "        'Year': 'first'\n",
    "    }).reset_index()\n",
    "\n",
    "    # Rename the columns\n",
    "    grouped_df.rename(columns={\n",
    "        'Cleared Volume': 'Daily contracts traded',\n",
    "        'Face Value': 'Daily dollars traded',\n",
    "        'Volume x MWh': 'Daily MWh traded'\n",
    "    }, inplace=True)\n",
    "\n",
    "    # Calculate the daily volume weighted average price in $/MWh\n",
    "    grouped_df['Daily average price'] = grouped_df['Daily dollars traded'] / grouped_df['Daily MWh traded']\n",
    "\n",
    "    # Sort values by Date before calculating cumulative sums\n",
    "    grouped_df.sort_values(by=['Date'], inplace=True)\n",
    "\n",
    "    # Calculate the cumulative sums\n",
    "    grouped_df['Cumulative MWh traded'] = grouped_df['Daily MWh traded'].cumsum()\n",
    "    grouped_df['Cumulative dollars traded'] = grouped_df['Daily dollars traded'].cumsum()\n",
    "\n",
    "    # Calculate the cumulative trade volume-weighted average price in $/MWh\n",
    "    grouped_df['Cumulative average price'] = grouped_df['Cumulative dollars traded'] / grouped_df['Cumulative MWh traded']\n",
    "\n",
    "    # Calculate the number of days of the trade from contract expiry\n",
    "    grouped_df['Days from expiry'] = grouped_df['Date'].apply(lambda x: days_from_expiry(trade_code, x.strftime(\"%d/%m/%Y\")))\n",
    "\n",
    "    # Step 3: Find the last day of all trades for that trade code\n",
    "    last_trade_date = grouped_df['Date'].max()\n",
    "    \n",
    "    # Step 4: Forward fill missing values until the last day of trade\n",
    "    grouped_df = grouped_df.set_index('Date').reindex(all_dates).fillna(method='ffill')\n",
    "    grouped_df = grouped_df[grouped_df.index <= last_trade_date].reset_index()\n",
    "\n",
    "    return grouped_df\n"
   ]
  },
  {
   "cell_type": "code",
   "execution_count": 13,
   "id": "bccaa310",
   "metadata": {},
   "outputs": [],
   "source": [
    "df = read_trade_data(file_path)"
   ]
  },
  {
   "cell_type": "code",
   "execution_count": 14,
   "id": "1ad76173",
   "metadata": {},
   "outputs": [],
   "source": [
    "# Create an empty dataframe which covers all days with trades\n",
    "start = pd.Timestamp.max\n",
    "end = pd.Timestamp.min\n",
    "\n",
    "for trade_code in trade_codes_of_interest:\n",
    "    filtered_df = df[df['Code'] == trade_code]\n",
    "    start_temp = filtered_df['Date'].min()\n",
    "    end_temp = filtered_df['Date'].max()\n",
    "    \n",
    "    if start > start_temp:\n",
    "        start = start_temp\n",
    "    if end < end_temp:\n",
    "        end = end_temp\n",
    "\n",
    "# Initialize an empty summary dataframe with all possible dates\n",
    "all_dates = pd.date_range(start=start, end=end)\n",
    "summary_df = pd.DataFrame({'Date': all_dates})"
   ]
  },
  {
   "cell_type": "code",
   "execution_count": 15,
   "id": "e84dbb4f",
   "metadata": {},
   "outputs": [],
   "source": [
    "#result_df = process_trade_data(df, trade_codes_of_interest[0], all_dates)\n",
    "#print(result_df)"
   ]
  },
  {
   "cell_type": "code",
   "execution_count": 16,
   "id": "b47b0e2d",
   "metadata": {
    "vscode": {
     "languageId": "ruby"
    }
   },
   "outputs": [],
   "source": [
    "# Initialize an empty DataFrame to store the final results\n",
    "final_df = pd.DataFrame()\n",
    "\n",
    "# Loop through each trade code in the list of interest\n",
    "for trade_code in trade_codes_of_interest:\n",
    "    # Call the process_trade_data function and get the result for the current trade code\n",
    "    result_df = process_trade_data(df, trade_code, all_dates)\n",
    "    \n",
    "    # Append the result_df to the final_df\n",
    "    final_df = pd.concat([final_df, result_df], ignore_index=True)\n",
    "\n",
    "# Now final_df contains the appended results for all trade codes\n"
   ]
  },
  {
   "cell_type": "code",
   "execution_count": 17,
   "id": "b2eb1ed2",
   "metadata": {},
   "outputs": [],
   "source": [
    "final_df.to_csv('new_summary.csv')"
   ]
  }
 ],
 "metadata": {
  "kernelspec": {
   "display_name": "py38_default",
   "language": "python",
   "name": "python3"
  },
  "language_info": {
   "codemirror_mode": {
    "name": "ipython",
    "version": 3
   },
   "file_extension": ".py",
   "mimetype": "text/x-python",
   "name": "python",
   "nbconvert_exporter": "python",
   "pygments_lexer": "ipython3",
   "version": "3.8.16"
  }
 },
 "nbformat": 4,
 "nbformat_minor": 5
}
