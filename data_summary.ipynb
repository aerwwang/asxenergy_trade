{
 "cells": [
  {
   "cell_type": "code",
   "execution_count": 1,
   "id": "dd16fb3b",
   "metadata": {},
   "outputs": [],
   "source": [
    "# Trade data summary for ASX electricity contract"
   ]
  },
  {
   "cell_type": "code",
   "execution_count": 2,
   "id": "26ca7df8",
   "metadata": {},
   "outputs": [],
   "source": [
    "# Import libraries\n",
    "import pandas as pd\n",
    "import re"
   ]
  },
  {
   "cell_type": "code",
   "execution_count": 3,
   "id": "647cf91c",
   "metadata": {},
   "outputs": [],
   "source": [
    "file_path = 'trades.csv'"
   ]
  },
  {
   "cell_type": "code",
   "execution_count": 4,
   "id": "2f3b7a3d",
   "metadata": {},
   "outputs": [],
   "source": [
    "contracts = ['Base', 'Cap']\n",
    "states = ['NSW', 'QLD', 'VIC', 'SA']\n",
    "expiries = ['Q1', 'Q2', 'Q3', 'Q4']\n",
    "years = [2022, 2023, 2024, 2025, 2026]"
   ]
  },
  {
   "cell_type": "code",
   "execution_count": 5,
   "id": "1eec660a",
   "metadata": {},
   "outputs": [],
   "source": [
    "# Define the mappings from the ASX electricity contract cheat sheet\n",
    "contract_codes = {\n",
    "    'B': 'Base', 'P': 'Peak', 'G': 'Cap', # $300 cap\n",
    "    'H': 'Base_strip', 'D': 'Peak_strip', 'R': 'Cap_strip'\n",
    "}\n",
    "\n",
    "region_codes = {\n",
    "    'N': 'NSW', 'Q': 'QLD', 'V': 'VIC', 'S': 'SA'\n",
    "}\n",
    "\n",
    "expiry_month_codes = {\n",
    "    'F': 'JAN', 'G': 'FEB', 'H': 'MAR', 'J': 'APR', \n",
    "    'K': 'MAY', 'M': 'JUN', 'N': 'JUL', 'Q': 'AUG', \n",
    "    'U': 'SEP', 'V': 'OCT', 'X': 'NOV', 'Z': 'DEC'\n",
    "}\n",
    "\n",
    "quarter_codes = {\n",
    "    'H': 'Q1', 'M': 'Q2', 'U': 'Q3', 'Z': 'Q4'\n",
    "}"
   ]
  },
  {
   "cell_type": "code",
   "execution_count": 6,
   "id": "6f1a10b4",
   "metadata": {},
   "outputs": [],
   "source": [
    "# Function to decode the product code to plain English\n",
    "def decode(code):\n",
    "    match = re.match(r'([A-Z])([A-Z])([A-Z])(\\d{4})([A-Z]?)(\\d{7})?', code)\n",
    "    \n",
    "    if match:\n",
    "        contract = contract_codes.get(match.group(1), '')\n",
    "        region = region_codes.get(match.group(2), '')\n",
    "        expiry = quarter_codes.get(match.group(3), '')\n",
    "        year = match.group(4)\n",
    "        option_type = match.group(5)\n",
    "        strike_price = match.group(6)\n",
    "        \n",
    "        if not contract:\n",
    "            raise ValueError(f\"Invalid contract code: {match.group(1)}\")\n",
    "        if not region:\n",
    "            raise ValueError(f\"Invalid region code: {match.group(2)}\")\n",
    "        if not expiry:\n",
    "            raise ValueError(f\"Invalid expiry code: {match.group(3)}\")\n",
    "        \n",
    "        if option_type == \"F\":\n",
    "            return f\"{contract} {region} {expiry} {year}\"\n",
    "        elif option_type in [\"C\", \"P\"]:\n",
    "            option = \"Call option\" if option_type == \"C\" else \"Put option\"\n",
    "            strike_price_dollars = f\"${int(strike_price) / 100:.2f}\"\n",
    "            return f\"{contract} {region} {expiry} {year} {option} with a strike price of {strike_price_dollars}\"\n",
    "    \n",
    "    return f\"{code} - Invalid code\""
   ]
  },
  {
   "cell_type": "code",
   "execution_count": 7,
   "id": "8856fce0",
   "metadata": {},
   "outputs": [],
   "source": [
    "# Function to encode plain English to product code\n",
    "def encode(plain_english):\n",
    "    try:\n",
    "        parts = plain_english.split()\n",
    "        \n",
    "        if len(parts) == 4 or len(parts) == 8:\n",
    "            contract = parts[0]\n",
    "            region = parts[1]\n",
    "            expiry = parts[2]\n",
    "            year_code = parts[3]\n",
    "            \n",
    "            contract_code = next((k for k, v in contract_codes.items() if v == contract), None)\n",
    "            region_code = next((k for k, v in region_codes.items() if v == region), None)\n",
    "            expiry_code = next((k for k, v in quarter_codes.items() if v == expiry), None)\n",
    "            \n",
    "            if not contract_code:\n",
    "                raise ValueError(f\"Invalid contract code: {contract}\")\n",
    "            if not region_code:\n",
    "                raise ValueError(f\"Invalid region code: {region}\")\n",
    "            if not expiry_code:\n",
    "                raise ValueError(f\"Invalid expiry code: {expiry}\")\n",
    "            \n",
    "            if len(parts) == 4:\n",
    "                return f\"{contract_code}{region_code}{expiry_code}{year_code}F\"\n",
    "            \n",
    "            option_type = \"C\" if parts[4] == \"Call\" else \"P\"\n",
    "            strike_price_cents = f\"{int(float(parts[-1][1:]) * 100):07d}\"\n",
    "            return f\"{contract_code}{region_code}{expiry_code}{year_code}{option_type}{strike_price_cents}\"\n",
    "        \n",
    "        raise ValueError(\"Invalid input format.\")\n",
    "    \n",
    "    except Exception as e:\n",
    "        return f\"Error: {str(e)}\""
   ]
  },
  {
   "cell_type": "code",
   "execution_count": 8,
   "id": "72ecdc74",
   "metadata": {},
   "outputs": [
    {
     "name": "stdout",
     "output_type": "stream",
     "text": [
      "Decoded: Base NSW Q1 2022 Call option with a strike price of $60.00\n",
      "Encoded: GQZ2025F\n"
     ]
    }
   ],
   "source": [
    "# Example usage of the above encode and decode functions\n",
    "code = \"BNH2022C0006000\"\n",
    "plain_english = \"Cap QLD Q4 2025\"\n",
    "\n",
    "decoded = decode(code)\n",
    "encoded = encode(plain_english)\n",
    "\n",
    "print(f\"Decoded: {decoded}\")\n",
    "print(f\"Encoded: {encoded}\")"
   ]
  },
  {
   "cell_type": "code",
   "execution_count": 9,
   "id": "2412b61d",
   "metadata": {},
   "outputs": [
    {
     "name": "stdout",
     "output_type": "stream",
     "text": [
      "['BNH2022F', 'BNH2023F', 'BNH2024F', 'BNH2025F', 'BNH2026F', 'BNM2022F', 'BNM2023F', 'BNM2024F', 'BNM2025F', 'BNM2026F', 'BNU2022F', 'BNU2023F', 'BNU2024F', 'BNU2025F', 'BNU2026F', 'BNZ2022F', 'BNZ2023F', 'BNZ2024F', 'BNZ2025F', 'BNZ2026F', 'BQH2022F', 'BQH2023F', 'BQH2024F', 'BQH2025F', 'BQH2026F', 'BQM2022F', 'BQM2023F', 'BQM2024F', 'BQM2025F', 'BQM2026F', 'BQU2022F', 'BQU2023F', 'BQU2024F', 'BQU2025F', 'BQU2026F', 'BQZ2022F', 'BQZ2023F', 'BQZ2024F', 'BQZ2025F', 'BQZ2026F', 'BVH2022F', 'BVH2023F', 'BVH2024F', 'BVH2025F', 'BVH2026F', 'BVM2022F', 'BVM2023F', 'BVM2024F', 'BVM2025F', 'BVM2026F', 'BVU2022F', 'BVU2023F', 'BVU2024F', 'BVU2025F', 'BVU2026F', 'BVZ2022F', 'BVZ2023F', 'BVZ2024F', 'BVZ2025F', 'BVZ2026F', 'BSH2022F', 'BSH2023F', 'BSH2024F', 'BSH2025F', 'BSH2026F', 'BSM2022F', 'BSM2023F', 'BSM2024F', 'BSM2025F', 'BSM2026F', 'BSU2022F', 'BSU2023F', 'BSU2024F', 'BSU2025F', 'BSU2026F', 'BSZ2022F', 'BSZ2023F', 'BSZ2024F', 'BSZ2025F', 'BSZ2026F', 'GNH2022F', 'GNH2023F', 'GNH2024F', 'GNH2025F', 'GNH2026F', 'GNM2022F', 'GNM2023F', 'GNM2024F', 'GNM2025F', 'GNM2026F', 'GNU2022F', 'GNU2023F', 'GNU2024F', 'GNU2025F', 'GNU2026F', 'GNZ2022F', 'GNZ2023F', 'GNZ2024F', 'GNZ2025F', 'GNZ2026F', 'GQH2022F', 'GQH2023F', 'GQH2024F', 'GQH2025F', 'GQH2026F', 'GQM2022F', 'GQM2023F', 'GQM2024F', 'GQM2025F', 'GQM2026F', 'GQU2022F', 'GQU2023F', 'GQU2024F', 'GQU2025F', 'GQU2026F', 'GQZ2022F', 'GQZ2023F', 'GQZ2024F', 'GQZ2025F', 'GQZ2026F', 'GVH2022F', 'GVH2023F', 'GVH2024F', 'GVH2025F', 'GVH2026F', 'GVM2022F', 'GVM2023F', 'GVM2024F', 'GVM2025F', 'GVM2026F', 'GVU2022F', 'GVU2023F', 'GVU2024F', 'GVU2025F', 'GVU2026F', 'GVZ2022F', 'GVZ2023F', 'GVZ2024F', 'GVZ2025F', 'GVZ2026F', 'GSH2022F', 'GSH2023F', 'GSH2024F', 'GSH2025F', 'GSH2026F', 'GSM2022F', 'GSM2023F', 'GSM2024F', 'GSM2025F', 'GSM2026F', 'GSU2022F', 'GSU2023F', 'GSU2024F', 'GSU2025F', 'GSU2026F', 'GSZ2022F', 'GSZ2023F', 'GSZ2024F', 'GSZ2025F', 'GSZ2026F']\n"
     ]
    }
   ],
   "source": [
    "def generate_trade_codes(contracts, states, expiries, years):\n",
    "    trade_codes = []\n",
    "    for contract in contracts:\n",
    "        for state in states:\n",
    "            for expiry in expiries:\n",
    "                for year in years:\n",
    "                    trade_code = f\"{contract} {state} {expiry} {year}\"\n",
    "                    trade_codes.append(encode(trade_code))\n",
    "    return trade_codes\n",
    "\n",
    "trade_codes_of_interest = generate_trade_codes(contracts, states, expiries, years)\n",
    "print(trade_codes_of_interest)"
   ]
  },
  {
   "cell_type": "code",
   "execution_count": 10,
   "id": "695e1a52",
   "metadata": {},
   "outputs": [],
   "source": [
    "def read_trade_data(file_path):\n",
    "    # Skip the first line with the separator information\n",
    "    df = pd.read_csv(file_path, skiprows=1)\n",
    "    df['Date'] = pd.to_datetime(df['Date'])  # Convert Date column to datetime format\n",
    "    return df"
   ]
  },
  {
   "cell_type": "code",
   "execution_count": 11,
   "id": "dfa17b7e",
   "metadata": {},
   "outputs": [],
   "source": [
    "# Calculate the number of days a trade is away from the contract expiry\n",
    "def get_expiry_date(contract_code):\n",
    "    # Decode the contract code\n",
    "    decoded_info = decode(contract_code)\n",
    "    if \"Invalid code\" in decoded_info:\n",
    "        return decoded_info\n",
    "    \n",
    "    # Extract expiry quarter and year\n",
    "    parts = decoded_info.split()\n",
    "    expiry_quarter = parts[2]\n",
    "    expiry_year = parts[3]\n",
    "    \n",
    "    # Define the last day of each quarter\n",
    "    last_days = {\n",
    "        'Q1': '31/03',\n",
    "        'Q2': '30/06',\n",
    "        'Q3': '30/09',\n",
    "        'Q4': '31/12'\n",
    "    }\n",
    "    \n",
    "    # Get the last day for the given quarter\n",
    "    last_day = last_days.get(expiry_quarter)\n",
    "    \n",
    "    if last_day:\n",
    "        # Combine with the given year and convert to datetime object\n",
    "        return pd.to_datetime(f\"{last_day}/{expiry_year}\", format=\"%d/%m/%Y\")\n",
    "    else:\n",
    "        return \"Invalid quarter\""
   ]
  },
  {
   "cell_type": "code",
   "execution_count": 12,
   "id": "46e13972",
   "metadata": {},
   "outputs": [],
   "source": [
    "def process_trade_data(df, trade_code):\n",
    "    # Filter the dataframe by the specified trade code\n",
    "    filtered_df = df[df['Code'] == trade_code]\n",
    "\n",
    "    # Group by date and calculate the required sums\n",
    "    grouped_df = filtered_df.groupby('Date').agg({\n",
    "        'Cleared Volume': 'sum',\n",
    "        'Face Value': 'sum',\n",
    "        'Volume x MWh': 'sum',\n",
    "        'Code': 'first',\n",
    "        'Product': 'first',\n",
    "        'Location': 'first',\n",
    "        'Trade Type': 'first',\n",
    "        'Period': 'first',\n",
    "        'Year': 'first'\n",
    "    }).reset_index()\n",
    "\n",
    "    # Rename the columns\n",
    "    grouped_df.rename(columns={\n",
    "        'Cleared Volume': 'Daily contracts traded',\n",
    "        'Face Value': 'Daily dollars traded',\n",
    "        'Volume x MWh': 'Daily MWh traded'\n",
    "    }, inplace=True)\n",
    "\n",
    "    # Calculate the daily volume weighted average price in $/MWh\n",
    "    grouped_df['Daily average price'] = grouped_df['Daily dollars traded'] / grouped_df['Daily MWh traded']\n",
    "\n",
    "    # Sort values by Date before calculating cumulative sums\n",
    "    grouped_df.sort_values(by=['Date'], inplace=True)\n",
    "\n",
    "    # Calculate the cumulative sums\n",
    "    grouped_df['Cumulative MWh traded'] = grouped_df['Daily MWh traded'].cumsum()\n",
    "    grouped_df['Cumulative dollars traded'] = grouped_df['Daily dollars traded'].cumsum()\n",
    "\n",
    "    # Calculate the cumulative trade volume-weighted average price in $/MWh\n",
    "    grouped_df['Cumulative average price'] = grouped_df['Cumulative dollars traded'] / grouped_df['Cumulative MWh traded']\n",
    "\n",
    "    # Generate a date range covering all dates from the min to max date in the data\n",
    "    all_dates = pd.date_range(start=grouped_df['Date'].min(), end=grouped_df['Date'].max())\n",
    "\n",
    "    # Forward fill missing values until the last day of trade\n",
    "    grouped_df = grouped_df.set_index('Date').reindex(all_dates).fillna(method='ffill')\n",
    "\n",
    "    # Reset the index to make the date column a regular column again\n",
    "    grouped_df = grouped_df.reset_index().rename(columns={'index': 'Date'})\n",
    "\n",
    "    # Calculate the number of days of the trade from contract expiry\n",
    "    expiry_date = get_expiry_date(trade_code)\n",
    "    grouped_df['Days from expiry'] = grouped_df['Date'].apply(lambda x: (expiry_date - x).days)\n",
    "\n",
    "    return grouped_df\n"
   ]
  },
  {
   "cell_type": "code",
   "execution_count": 13,
   "id": "bccaa310",
   "metadata": {},
   "outputs": [],
   "source": [
    "df = read_trade_data(file_path)"
   ]
  },
  {
   "cell_type": "code",
   "execution_count": 14,
   "id": "e84dbb4f",
   "metadata": {},
   "outputs": [
    {
     "name": "stdout",
     "output_type": "stream",
     "text": [
      "           Date  Daily contracts traded  Daily dollars traded  \\\n",
      "0    2019-05-07                    10.0             1778760.0   \n",
      "1    2019-05-08                    10.0             1778760.0   \n",
      "2    2019-05-09                    10.0             1778760.0   \n",
      "3    2019-05-10                    10.0             1778760.0   \n",
      "4    2019-05-11                    10.0             1778760.0   \n",
      "...         ...                     ...                   ...   \n",
      "1052 2022-03-24                     3.0              555120.0   \n",
      "1053 2022-03-25                     3.0              555120.0   \n",
      "1054 2022-03-26                     3.0              555120.0   \n",
      "1055 2022-03-27                     3.0              555120.0   \n",
      "1056 2022-03-28                     2.0              378000.0   \n",
      "\n",
      "      Daily MWh traded      Code Product Location  Trade Type Period    Year  \\\n",
      "0              21600.0  BNH2022F  Future      NSW  Strip Legs     Q1  2022.0   \n",
      "1              21600.0  BNH2022F  Future      NSW  Strip Legs     Q1  2022.0   \n",
      "2              21600.0  BNH2022F  Future      NSW  Strip Legs     Q1  2022.0   \n",
      "3              21600.0  BNH2022F  Future      NSW  Strip Legs     Q1  2022.0   \n",
      "4              21600.0  BNH2022F  Future      NSW  Strip Legs     Q1  2022.0   \n",
      "...                ...       ...     ...      ...         ...    ...     ...   \n",
      "1052            6480.0  BNH2022F  Future      NSW   On Screen     Q1  2022.0   \n",
      "1053            6480.0  BNH2022F  Future      NSW   On Screen     Q1  2022.0   \n",
      "1054            6480.0  BNH2022F  Future      NSW   On Screen     Q1  2022.0   \n",
      "1055            6480.0  BNH2022F  Future      NSW   On Screen     Q1  2022.0   \n",
      "1056            4320.0  BNH2022F  Future      NSW   On Screen     Q1  2022.0   \n",
      "\n",
      "      Daily average price  Cumulative MWh traded  Cumulative dollars traded  \\\n",
      "0               82.350000                21600.0               1.778760e+06   \n",
      "1               82.350000                21600.0               1.778760e+06   \n",
      "2               82.350000                21600.0               1.778760e+06   \n",
      "3               82.350000                21600.0               1.778760e+06   \n",
      "4               82.350000                21600.0               1.778760e+06   \n",
      "...                   ...                    ...                        ...   \n",
      "1052            85.666667             25267680.0               1.811041e+09   \n",
      "1053            85.666667             25267680.0               1.811041e+09   \n",
      "1054            85.666667             25267680.0               1.811041e+09   \n",
      "1055            85.666667             25267680.0               1.811041e+09   \n",
      "1056            87.500000             25272000.0               1.811419e+09   \n",
      "\n",
      "      Cumulative average price  Days from expiry  \n",
      "0                    82.350000              1059  \n",
      "1                    82.350000              1058  \n",
      "2                    82.350000              1057  \n",
      "3                    82.350000              1056  \n",
      "4                    82.350000              1055  \n",
      "...                        ...               ...  \n",
      "1052                 71.674212                 7  \n",
      "1053                 71.674212                 6  \n",
      "1054                 71.674212                 5  \n",
      "1055                 71.674212                 4  \n",
      "1056                 71.676917                 3  \n",
      "\n",
      "[1057 rows x 15 columns]\n"
     ]
    }
   ],
   "source": [
    "result_df = process_trade_data(df, trade_codes_of_interest[0])\n",
    "print(result_df)"
   ]
  },
  {
   "cell_type": "code",
   "execution_count": 15,
   "id": "b47b0e2d",
   "metadata": {
    "vscode": {
     "languageId": "ruby"
    }
   },
   "outputs": [],
   "source": [
    "# Initialize an empty DataFrame to store the final results\n",
    "final_df = pd.DataFrame()\n",
    "\n",
    "# Loop through each trade code in the list of interest\n",
    "for trade_code in trade_codes_of_interest:\n",
    "    # Call the process_trade_data function and get the result for the current trade code\n",
    "    result_df = process_trade_data(df, trade_code)\n",
    "    \n",
    "    # Append the result_df to the final_df\n",
    "    final_df = pd.concat([final_df, result_df], ignore_index=True)\n",
    "\n",
    "# Now final_df contains the appended results for all trade codes\n"
   ]
  },
  {
   "cell_type": "code",
   "execution_count": 16,
   "id": "b2eb1ed2",
   "metadata": {},
   "outputs": [],
   "source": [
    "final_df.to_csv('new_summary.csv')"
   ]
  }
 ],
 "metadata": {
  "kernelspec": {
   "display_name": "py38_default",
   "language": "python",
   "name": "python3"
  },
  "language_info": {
   "codemirror_mode": {
    "name": "ipython",
    "version": 3
   },
   "file_extension": ".py",
   "mimetype": "text/x-python",
   "name": "python",
   "nbconvert_exporter": "python",
   "pygments_lexer": "ipython3",
   "version": "3.8.16"
  }
 },
 "nbformat": 4,
 "nbformat_minor": 5
}
